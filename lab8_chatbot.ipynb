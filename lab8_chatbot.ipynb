{
 "cells": [
  {
   "cell_type": "markdown",
   "id": "404c5f24-0b0a-4388-b9d1-5540605949e9",
   "metadata": {},
   "source": [
    "## Laboratorium 8 - Jak działa GPT?\n",
    "### Open AI API - budowa chatbota"
   ]
  },
  {
   "cell_type": "markdown",
   "id": "2bd11dcd-96ca-4dd1-93cf-5bff5247929d",
   "metadata": {},
   "source": [
    "Imię i nazwisko: ..............\n",
    "\n",
    "Punktacja:\n",
    "* 4.5 pkt. implementacja poprawnie działającej pętli konwersacyjnej z bazową funkcjonalnością\n",
    "* 1.5 pkt. dokumentacja działania (patrz koniec notebooka)\n",
    "* 2 pkt. rozwinięcia"
   ]
  },
  {
   "cell_type": "code",
   "execution_count": null,
   "id": "2e95a910-3534-4b53-8a02-93e5e9eb62ea",
   "metadata": {},
   "outputs": [],
   "source": [
    "!pip install dotenv"
   ]
  },
  {
   "cell_type": "code",
   "execution_count": null,
   "id": "24f69a76-ddda-4273-b1d0-9d7e21cb7944",
   "metadata": {},
   "outputs": [],
   "source": [
    "!pip install openai"
   ]
  },
  {
   "cell_type": "markdown",
   "id": "08e133d3-8050-4b5c-a895-d5e9cafcb7e5",
   "metadata": {},
   "source": [
    "#### Tworzenie klucza\n",
    "1. Tworzymy konto na https://platform.openai.com/ na mail PW i czekamy na dodanie do projektu związanego z przedmiotem\n",
    "2. Logujemy się na https://platform.openai.com/\n",
    "3. Wchodzimy w ustawienia (`Settings`) - kółko zębate w prawym górnym rogu\n",
    "4. Z menu po lewej wybieramy `API keys`\n",
    "5. Klikamy `Create new secret key` (zielony przycisk na górze po prawej)\n",
    "6. Wybieramy odpowiedni projekt i klikamy `Create secret key`\n",
    "7. Naciskamy `Copy` i kopiujemy klucz do schowka\n",
    "8. Tworzymy plik .env i umieszczamy w nim OPENAI_API_KEY=`<nasz klucz>`\n",
    "\n",
    "*Alternatywa dla .env* Colab ma swoje `Secrets` (ikona klucza na pasku po lewej, to też powinno działać)\n",
    "\n",
    "**Uwaga:** Nie należy nikomu udostępniać utworzonego klucza i umieszczać go np. w publicznych repozytoriach."
   ]
  },
  {
   "cell_type": "code",
   "execution_count": null,
   "id": "8f7a05a4-6885-4bde-be7b-46948fe02df6",
   "metadata": {},
   "outputs": [],
   "source": [
    "import os"
   ]
  },
  {
   "cell_type": "code",
   "execution_count": null,
   "id": "8226de27-f4a4-48fd-8b53-15de56de2103",
   "metadata": {},
   "outputs": [],
   "source": [
    "# ładujemy plik .env\n",
    "from dotenv import load_dotenv\n",
    "load_dotenv()"
   ]
  },
  {
   "cell_type": "code",
   "execution_count": null,
   "id": "992b5f37-666e-44e5-b667-54a8413f3a5e",
   "metadata": {},
   "outputs": [],
   "source": [
    "# wczytujemy wartość klucza\n",
    "api_key = os.getenv(\"OPENAI_API_KEY\")\n",
    "#print(f\"API Key: {api_key}\")"
   ]
  },
  {
   "cell_type": "code",
   "execution_count": null,
   "id": "8574f88b-f478-4d58-b3d5-8f51180f3d86",
   "metadata": {},
   "outputs": [],
   "source": [
    "# tworzymy klienta OpenAI\n",
    "from openai import OpenAI\n",
    "client = OpenAI()"
   ]
  },
  {
   "cell_type": "code",
   "execution_count": null,
   "id": "fef220cd-1fb4-46d3-ad15-a92c70e43aa9",
   "metadata": {},
   "outputs": [],
   "source": [
    "# sprawdzenie czy klucz działa prawidłowo\n",
    "completion = client.chat.completions.create(\n",
    "    model=\"gpt-4o-mini\",\n",
    "    messages=[\n",
    "        {\"role\": \"user\", \"content\": \"write a haiku about ai\"}\n",
    "    ]\n",
    ")"
   ]
  },
  {
   "cell_type": "code",
   "execution_count": null,
   "id": "f47aaa4e-db72-4976-9975-3c186dac2b10",
   "metadata": {},
   "outputs": [],
   "source": [
    "print(completion.choices[0].message.content)"
   ]
  },
  {
   "cell_type": "markdown",
   "id": "20b1642e-a69d-493c-9668-a8363f9aaa06",
   "metadata": {},
   "source": [
    "### Zadanie\n",
    "Napisz bota, który będzie rozmawiał z klientem restauracji.\n",
    "\n",
    "Zadaniem bota jest zebrać zamównienie:\n",
    "* zamówione produkty\n",
    "* imię i nazwisko\n",
    "* numer telefonu\n",
    "* adres dostawy\n",
    "\n",
    "Na koniec konwersacji bot powienien wyświetlić zgromadzone informacje wraz z kwotą do zapłaty i poprosić o potwierdzenie.\n",
    "Po uzyskaniu potwierdzenia od użytkownika konwersjacja się kończy.\n",
    "\n",
    "Kroki do wykonania:\n",
    "1. Przygotuj menu i nazwę restauracji (możesz w tym celu skorzystać z dowolnego modelu językowego)\n",
    "2. Przygotuj system prompt dla modelu, który powinien zawierać:\n",
    "    * menu i nazwę restauracji\n",
    "    * jasny opis zadania\n",
    "    * wymagane formatowanie danych w podsumowaniu zamównienia\n",
    "3. Napisz pętlę konwersacji z wykorztaniem API OpenAI (przykład pętli był na wykładzie)\n",
    "4. Iteruj aż do uzyskania satysfakcjonującego rozwiązania"
   ]
  },
  {
   "cell_type": "markdown",
   "id": "d45f1906-e96d-4e99-a116-a2d3d94254f0",
   "metadata": {},
   "source": [
    "#### Możliwe usprawnienia i rozwinięcia\n",
    "* Walidacja wprowadzonych danych np. sprawdzenie czy numer telefonu ma prawidłowy format\n",
    "* Najprostszą metodą kończenia konwersacji jest wymaganie od użytkownika wpisania wybranego słowa kluczowego (np. \"koniec\")\n",
    "    * ale możemy też poprosić model, żeby ocenił, czy użytkownik skończył rozmowę i zwrócił nam określony rezultat\n",
    "* Wyliczanie kwoty zamównienia w Pythonie, a nie przez model\n",
    "    *  możemy przechowywać menu jako słownik produkt: cena\n",
    "    *  i prosić model o wskazanie wybranych produnktów (i ich ilości)\n",
    "    *  a następnie zsumować petlą for\n",
    "* przekształcenie zamównienia do zunifikowanego formatu, który może być przetwarzany dalej (np. json)  \n",
    "* ... własne pomysły mile widziane  "
   ]
  },
  {
   "cell_type": "code",
   "execution_count": null,
   "id": "328c8745-421a-4306-ae83-b3c99f2c525f",
   "metadata": {},
   "outputs": [],
   "source": []
  },
  {
   "cell_type": "markdown",
   "id": "f5ca68ff-d05a-47fa-b8f4-db480f843924",
   "metadata": {},
   "source": [
    "### Dokumentacja wyników\n",
    "\n",
    "Proszę do sprawozdania z lab dołączyć jeden przykład prawidłowej konwersacji i **jeden przykład konwersacji, gdzie bot robi coś dziwnego**. (Uwaga: można jako użytkownik zachowywać się bardzo nietypowo, aby uzyskać dziwne wyniki)"
   ]
  },
  {
   "cell_type": "code",
   "execution_count": null,
   "id": "f67f1ed8-a412-415f-be0b-d7148660fa08",
   "metadata": {},
   "outputs": [],
   "source": []
  }
 ],
 "metadata": {
  "kernelspec": {
   "display_name": "dydaktyka_LLM",
   "language": "python",
   "name": "dydaktyka_llm"
  },
  "language_info": {
   "codemirror_mode": {
    "name": "ipython",
    "version": 3
   },
   "file_extension": ".py",
   "mimetype": "text/x-python",
   "name": "python",
   "nbconvert_exporter": "python",
   "pygments_lexer": "ipython3",
   "version": "3.12.3"
  }
 },
 "nbformat": 4,
 "nbformat_minor": 5
}
