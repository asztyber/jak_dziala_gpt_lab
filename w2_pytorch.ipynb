{
 "cells": [
  {
   "cell_type": "markdown",
   "id": "ecc0a746-20ee-4a3f-9562-c5d1f07255e6",
   "metadata": {},
   "source": [
    "## Wykład 2 - Jak działa GPT\n",
    "Wprowadzenie do biblioteki PyTorch i operacji wykorzystywanych w algorytmach klasyfikacji (softmax, entropia krzyżowa)\n",
    "\n",
    "PyTorch zapewnia:\n",
    "* obliczenia numeryczne na wielowymiarowych macierzach (tensorach)\n",
    "* Automatyczne wyznaczanie gradientów (potrzebne do optymalizacji gradientowej)\n",
    "* Wyskopoziomowe moduły do budowy sieci neuronowych\n",
    "* Zapewnia większą elastyczność niż Keras i jest dużo przyjemniejszy w obsłudze niż Tensorflow "
   ]
  },
  {
   "cell_type": "code",
   "execution_count": 1,
   "id": "196ae5db-d9fa-40fc-9cff-4cdc9ac21ebc",
   "metadata": {},
   "outputs": [],
   "source": [
    "import torch"
   ]
  },
  {
   "cell_type": "markdown",
   "id": "24670ab5-4559-46a1-87e6-b734291e6a9b",
   "metadata": {},
   "source": [
    "### Macierze PyTorch"
   ]
  },
  {
   "cell_type": "code",
   "execution_count": 2,
   "id": "5a0d953f-0b71-4090-a116-99040d257490",
   "metadata": {},
   "outputs": [
    {
     "data": {
      "text/plain": [
       "tensor([[0., 0., 0., 0.],\n",
       "        [0., 0., 0., 0.],\n",
       "        [0., 0., 0., 0.],\n",
       "        [0., 0., 0., 0.]])"
      ]
     },
     "execution_count": 2,
     "metadata": {},
     "output_type": "execute_result"
    }
   ],
   "source": [
    "torch.zeros(4, 4)"
   ]
  },
  {
   "cell_type": "code",
   "execution_count": 3,
   "id": "03ba7f3f-f26d-4a8a-bdfb-fedf12dfa8e4",
   "metadata": {},
   "outputs": [
    {
     "data": {
      "text/plain": [
       "tensor([1, 2, 3, 4, 5, 6, 7, 8, 9])"
      ]
     },
     "execution_count": 3,
     "metadata": {},
     "output_type": "execute_result"
    }
   ],
   "source": [
    "A = torch.arange(1, 10)\n",
    "A"
   ]
  },
  {
   "cell_type": "code",
   "execution_count": 4,
   "id": "b96465ae-6222-4deb-a5c8-edfabed8ece4",
   "metadata": {},
   "outputs": [
    {
     "data": {
      "text/plain": [
       "torch.Size([9])"
      ]
     },
     "execution_count": 4,
     "metadata": {},
     "output_type": "execute_result"
    }
   ],
   "source": [
    "# shape - sprawdza kształt tensora\n",
    "A.shape"
   ]
  },
  {
   "cell_type": "code",
   "execution_count": 8,
   "id": "809dd53b-f9c9-414f-89d4-ae772b39dc1a",
   "metadata": {},
   "outputs": [
    {
     "data": {
      "text/plain": [
       "tensor([[1, 2, 3],\n",
       "        [4, 5, 6],\n",
       "        [7, 8, 9]])"
      ]
     },
     "execution_count": 8,
     "metadata": {},
     "output_type": "execute_result"
    }
   ],
   "source": [
    "# reshape zmienia kształt\n",
    "A = A.reshape(3, 3)\n",
    "A"
   ]
  },
  {
   "cell_type": "code",
   "execution_count": 6,
   "id": "36ea25ae-0bc0-4e9b-a4fb-d63879fd3368",
   "metadata": {},
   "outputs": [
    {
     "data": {
      "text/plain": [
       "torch.Size([3, 3])"
      ]
     },
     "execution_count": 6,
     "metadata": {},
     "output_type": "execute_result"
    }
   ],
   "source": [
    "A.shape"
   ]
  },
  {
   "cell_type": "code",
   "execution_count": 9,
   "id": "a297792a-b040-47b8-8e36-d4fc0c465afd",
   "metadata": {},
   "outputs": [],
   "source": [
    "# podstawienie wartości\n",
    "A[0, 0] = 100"
   ]
  },
  {
   "cell_type": "code",
   "execution_count": 10,
   "id": "0297da9e-4e0e-4ce4-b312-c7938aa2385f",
   "metadata": {},
   "outputs": [
    {
     "data": {
      "text/plain": [
       "tensor([[100,   2,   3],\n",
       "        [  4,   5,   6],\n",
       "        [  7,   8,   9]])"
      ]
     },
     "execution_count": 10,
     "metadata": {},
     "output_type": "execute_result"
    }
   ],
   "source": [
    "A"
   ]
  },
  {
   "cell_type": "code",
   "execution_count": 11,
   "id": "530c9bdf-56bd-4adc-8a39-54d2d2acd8fa",
   "metadata": {},
   "outputs": [
    {
     "data": {
      "text/plain": [
       "tensor(144)"
      ]
     },
     "execution_count": 11,
     "metadata": {},
     "output_type": "execute_result"
    }
   ],
   "source": [
    "A.sum()"
   ]
  },
  {
   "cell_type": "code",
   "execution_count": 12,
   "id": "ddf8016f-6104-4b23-97d1-2e33d337e790",
   "metadata": {},
   "outputs": [
    {
     "data": {
      "text/plain": [
       "tensor([111,  15,  18])"
      ]
     },
     "execution_count": 12,
     "metadata": {},
     "output_type": "execute_result"
    }
   ],
   "source": [
    "A.sum(axis=0)"
   ]
  },
  {
   "cell_type": "code",
   "execution_count": 15,
   "id": "f08e8140-0232-47f1-822b-3e03e96f2c96",
   "metadata": {},
   "outputs": [
    {
     "data": {
      "text/plain": [
       "tensor([105,  15,  24])"
      ]
     },
     "execution_count": 15,
     "metadata": {},
     "output_type": "execute_result"
    }
   ],
   "source": [
    "A.sum(axis=1)"
   ]
  },
  {
   "cell_type": "code",
   "execution_count": 36,
   "id": "0a6ace8e-daed-49f6-b408-ec40dc59dccd",
   "metadata": {},
   "outputs": [
    {
     "data": {
      "text/plain": [
       "tensor([[105],\n",
       "        [ 15],\n",
       "        [ 24]])"
      ]
     },
     "execution_count": 36,
     "metadata": {},
     "output_type": "execute_result"
    }
   ],
   "source": [
    "# keepdims=True zachowuje liczbę wymiarów tensora po operacji sumowania\n",
    "A.sum(axis=1, keepdims=True)"
   ]
  },
  {
   "cell_type": "code",
   "execution_count": 19,
   "id": "c4e939fb-f1e6-4f12-8504-68a13a4d75e0",
   "metadata": {},
   "outputs": [
    {
     "data": {
      "text/plain": [
       "tensor([[103,   5,   6],\n",
       "        [  7,   8,   9],\n",
       "        [ 10,  11,  12]])"
      ]
     },
     "execution_count": 19,
     "metadata": {},
     "output_type": "execute_result"
    }
   ],
   "source": [
    "A + 3"
   ]
  },
  {
   "cell_type": "code",
   "execution_count": 20,
   "id": "0e71d296-d258-48b1-9170-2c53045a83c1",
   "metadata": {},
   "outputs": [
    {
     "data": {
      "text/plain": [
       "tensor([[300,   6,   9],\n",
       "        [ 12,  15,  18],\n",
       "        [ 21,  24,  27]])"
      ]
     },
     "execution_count": 20,
     "metadata": {},
     "output_type": "execute_result"
    }
   ],
   "source": [
    "A * 3"
   ]
  },
  {
   "cell_type": "code",
   "execution_count": 23,
   "id": "9450e18a-8e3d-491a-9a21-086502610380",
   "metadata": {},
   "outputs": [
    {
     "data": {
      "text/plain": [
       "tensor([[10029,   234,   339],\n",
       "        [  462,    81,    96],\n",
       "        [  795,   126,   150]])"
      ]
     },
     "execution_count": 23,
     "metadata": {},
     "output_type": "execute_result"
    }
   ],
   "source": [
    "# mnożenie macierzy\n",
    "A @ A"
   ]
  },
  {
   "cell_type": "markdown",
   "id": "169cdffe-8700-4e13-a196-c4117d9e91f7",
   "metadata": {},
   "source": [
    "#### Konkatenacja macierzy"
   ]
  },
  {
   "cell_type": "code",
   "execution_count": 24,
   "id": "286d1be0-5cea-4244-b02d-fadacdc697eb",
   "metadata": {},
   "outputs": [
    {
     "name": "stdout",
     "output_type": "stream",
     "text": [
      "tensor([1, 2, 3, 4])\n",
      "tensor([1, 2, 3, 4])\n"
     ]
    }
   ],
   "source": [
    "a = torch.arange(1, 5)\n",
    "b = torch.arange(1, 5)\n",
    "print(a)\n",
    "print(b)"
   ]
  },
  {
   "cell_type": "code",
   "execution_count": 25,
   "id": "3f118dbf-ae81-4aeb-bfb3-073376ab27c2",
   "metadata": {},
   "outputs": [
    {
     "data": {
      "text/plain": [
       "tensor([[1, 2, 3, 4],\n",
       "        [1, 2, 3, 4]])"
      ]
     },
     "execution_count": 25,
     "metadata": {},
     "output_type": "execute_result"
    }
   ],
   "source": [
    "torch.stack([a, b])"
   ]
  },
  {
   "cell_type": "markdown",
   "id": "74107830-651a-4a3b-8956-6bfd77379d96",
   "metadata": {},
   "source": [
    "#### Losowanie"
   ]
  },
  {
   "cell_type": "code",
   "execution_count": 27,
   "id": "ef89e189-0ff2-4a0a-a5a0-2278e9ff7e9c",
   "metadata": {},
   "outputs": [
    {
     "data": {
      "text/plain": [
       "tensor([[93, 80],\n",
       "        [98, 61]])"
      ]
     },
     "execution_count": 27,
     "metadata": {},
     "output_type": "execute_result"
    }
   ],
   "source": [
    "torch.randint(low=50, high=100, size=(2, 2))"
   ]
  },
  {
   "cell_type": "code",
   "execution_count": 28,
   "id": "5fa97b26-43a7-4025-8ac4-4696eb48901b",
   "metadata": {},
   "outputs": [
    {
     "data": {
      "text/plain": [
       "tensor([[-0.0307,  0.0028],\n",
       "        [ 0.0038, -0.0108]])"
      ]
     },
     "execution_count": 28,
     "metadata": {},
     "output_type": "execute_result"
    }
   ],
   "source": [
    "torch.normal(mean=0, std=0.01, size=(2, 2))"
   ]
  },
  {
   "cell_type": "markdown",
   "id": "1ff97a42-ace7-499c-8657-1ab78dc262be",
   "metadata": {},
   "source": [
    "#### Logity\n",
    "- dla sieci neuronowej klasyfikującej $n$ kategorii mamy w warstwie wyjściowej $n$ neuronów (np. klasyfikacja 200k tokenów)\n",
    "- **Logity** to surowe wartości przed obliczeniem funkcji aktywacji\n",
    "- Rozważmy przykład:\n",
    "    - dwóch przykładów (wejść sieci) o czterech cechach ($x$)\n",
    "    - wektora wag $W$ o wymiarze 4 x 3\n",
    "    - klasyfikacji do 3 klas (czyli 3 neurony wyjściowe) "
   ]
  },
  {
   "cell_type": "code",
   "execution_count": 30,
   "id": "36b70c5d-36ec-444d-b7c2-915f500c2fa6",
   "metadata": {},
   "outputs": [
    {
     "data": {
      "text/plain": [
       "tensor([[-1.8557, -0.7003, -0.0732, -1.6119],\n",
       "        [ 0.5489,  1.8417, -0.2932, -0.3619]])"
      ]
     },
     "execution_count": 30,
     "metadata": {},
     "output_type": "execute_result"
    }
   ],
   "source": [
    "x = torch.normal(mean=0, std=1, size=(2, 4))\n",
    "x"
   ]
  },
  {
   "cell_type": "code",
   "execution_count": 31,
   "id": "094de156-1724-4813-879e-f250762f38bf",
   "metadata": {},
   "outputs": [
    {
     "data": {
      "text/plain": [
       "tensor([[ 0.7362, -0.6520,  1.4603],\n",
       "        [ 0.4427, -1.3592,  1.8464],\n",
       "        [ 1.2158, -1.1247,  0.3897],\n",
       "        [-1.3426, -0.4803,  0.7843]])"
      ]
     },
     "execution_count": 31,
     "metadata": {},
     "output_type": "execute_result"
    }
   ],
   "source": [
    "W = torch.normal(mean=0, std=1, size=(4, 3))\n",
    "W"
   ]
  },
  {
   "cell_type": "code",
   "execution_count": 32,
   "id": "6fb3dc90-0429-4eba-9990-b481b64aad8a",
   "metadata": {},
   "outputs": [
    {
     "name": "stdout",
     "output_type": "stream",
     "text": [
      "torch.Size([2, 3])\n",
      "tensor([[ 0.3990,  3.0183, -5.2956],\n",
      "        [ 1.3489, -2.3576,  3.8040]])\n"
     ]
    }
   ],
   "source": [
    "logits = x @ W\n",
    "print(logits.shape)\n",
    "print(logits)"
   ]
  },
  {
   "cell_type": "markdown",
   "id": "af1e8b78-2e4a-455d-936e-2e2a6c862da4",
   "metadata": {},
   "source": [
    "#### Softmax\n",
    "$$softmax(z_i) = \\frac{e^{z_i}}{\\sum_{j=1}^{n} e^{z_j}}$$\n"
   ]
  },
  {
   "cell_type": "code",
   "execution_count": 33,
   "id": "2b7eb766-468f-4c50-a7a5-febd2c937deb",
   "metadata": {},
   "outputs": [
    {
     "data": {
      "text/plain": [
       "tensor([[1.4903e+00, 2.0457e+01, 5.0136e-03],\n",
       "        [3.8530e+00, 9.4650e-02, 4.4880e+01]])"
      ]
     },
     "execution_count": 33,
     "metadata": {},
     "output_type": "execute_result"
    }
   ],
   "source": [
    "exp_logits = torch.exp(logits)\n",
    "exp_logits"
   ]
  },
  {
   "cell_type": "code",
   "execution_count": 34,
   "id": "caeb5752-9d34-4c92-b969-f52e5bab70b1",
   "metadata": {},
   "outputs": [
    {
     "data": {
      "text/plain": [
       "tensor([[21.9528],\n",
       "        [48.8276]])"
      ]
     },
     "execution_count": 34,
     "metadata": {},
     "output_type": "execute_result"
    }
   ],
   "source": [
    "exp_logits.sum(axis=1, keepdims=True)"
   ]
  },
  {
   "cell_type": "code",
   "execution_count": 37,
   "id": "5f877b07-ba7d-4e47-807c-d260ba416351",
   "metadata": {},
   "outputs": [
    {
     "data": {
      "text/plain": [
       "tensor([[6.7886e-02, 9.3189e-01, 2.2838e-04],\n",
       "        [7.8911e-02, 1.9384e-03, 9.1915e-01]])"
      ]
     },
     "execution_count": 37,
     "metadata": {},
     "output_type": "execute_result"
    }
   ],
   "source": [
    "# normalizujemy każdy wiersz, żeby sumował się do jedynki\n",
    "# wyjścia po funkcji aktywacji softmax mają interpretację prawdopodobieństwa\n",
    "probs = exp_logits/exp_logits.sum(axis=1, keepdims=True)\n",
    "probs"
   ]
  },
  {
   "cell_type": "code",
   "execution_count": 38,
   "id": "ba94049b-61d4-4a57-83d9-e0b090609bff",
   "metadata": {},
   "outputs": [
    {
     "ename": "RuntimeError",
     "evalue": "The size of tensor a (3) must match the size of tensor b (2) at non-singleton dimension 1",
     "output_type": "error",
     "traceback": [
      "\u001b[0;31m---------------------------------------------------------------------------\u001b[0m",
      "\u001b[0;31mRuntimeError\u001b[0m                              Traceback (most recent call last)",
      "Cell \u001b[0;32mIn[38], line 2\u001b[0m\n\u001b[1;32m      1\u001b[0m \u001b[38;5;66;03m# po co jest keepdims? - wymiary muszą się zgadzać\u001b[39;00m\n\u001b[0;32m----> 2\u001b[0m probs \u001b[38;5;241m=\u001b[39m \u001b[43mexp_logits\u001b[49m\u001b[38;5;241;43m/\u001b[39;49m\u001b[43mexp_logits\u001b[49m\u001b[38;5;241;43m.\u001b[39;49m\u001b[43msum\u001b[49m\u001b[43m(\u001b[49m\u001b[43maxis\u001b[49m\u001b[38;5;241;43m=\u001b[39;49m\u001b[38;5;241;43m1\u001b[39;49m\u001b[43m)\u001b[49m\n\u001b[1;32m      3\u001b[0m probs\n",
      "\u001b[0;31mRuntimeError\u001b[0m: The size of tensor a (3) must match the size of tensor b (2) at non-singleton dimension 1"
     ]
    }
   ],
   "source": [
    "# po co jest keepdims? - wymiary muszą się zgadzać\n",
    "probs = exp_logits/exp_logits.sum(axis=1)\n",
    "probs"
   ]
  },
  {
   "cell_type": "markdown",
   "id": "cd48c27c-c7ab-47a6-93cf-825567bb77f5",
   "metadata": {},
   "source": [
    "#### One hot encoding"
   ]
  },
  {
   "cell_type": "code",
   "execution_count": 39,
   "id": "06a173b9-74c1-46df-9d04-a708f6fdbfff",
   "metadata": {},
   "outputs": [],
   "source": [
    "import torch.nn.functional as F"
   ]
  },
  {
   "cell_type": "code",
   "execution_count": 41,
   "id": "648b924b-f394-4a57-b63b-ee4fa8a0a88c",
   "metadata": {},
   "outputs": [
    {
     "data": {
      "text/plain": [
       "tensor([0, 1, 0, 0, 0])"
      ]
     },
     "execution_count": 41,
     "metadata": {},
     "output_type": "execute_result"
    }
   ],
   "source": [
    "# pierwszy argument - jaką liczbę zakodować\n",
    "# drugi argument - ile jest klas (num_classes)\n",
    "# kodowanie umieszcza jedynkę na pozycji odpowiadającej indeksowi pierwszego argumentu, w wektorze o długości n_classes\n",
    "F.one_hot(torch.tensor(1), num_classes=5)"
   ]
  },
  {
   "cell_type": "code",
   "execution_count": 42,
   "id": "82f7adac-764f-43fe-a513-db2074b463fc",
   "metadata": {},
   "outputs": [
    {
     "data": {
      "text/plain": [
       "tensor([[1, 0, 0],\n",
       "        [0, 0, 1]])"
      ]
     },
     "execution_count": 42,
     "metadata": {},
     "output_type": "execute_result"
    }
   ],
   "source": [
    "# prawidłowe wyjścia sieci (etykiety) zakodowane jako one hot encoding\n",
    "# dla pierwszego przykłądu prawidłową etykietą jest 0, a dla drugiego 2\n",
    "y = F.one_hot(torch.tensor([0, 2]), num_classes=3)\n",
    "y"
   ]
  },
  {
   "cell_type": "markdown",
   "id": "bb0b4897-23ad-48be-93fc-45966915f1f9",
   "metadata": {},
   "source": [
    "#### Entropia krzyżowa\n",
    "(dla pojedynczego przykładu)\n",
    "$$ loss = -\\sum_{i=1}^{n} y_i \\log(\\hat{y}_i)$$ "
   ]
  },
  {
   "cell_type": "code",
   "execution_count": 43,
   "id": "5858e8eb-45d0-4f3f-ac0e-d379fd5f583a",
   "metadata": {},
   "outputs": [
    {
     "data": {
      "text/plain": [
       "tensor([[6.7886e-02, 9.3189e-01, 2.2838e-04],\n",
       "        [7.8911e-02, 1.9384e-03, 9.1915e-01]])"
      ]
     },
     "execution_count": 43,
     "metadata": {},
     "output_type": "execute_result"
    }
   ],
   "source": [
    "probs"
   ]
  },
  {
   "cell_type": "code",
   "execution_count": 44,
   "id": "dd50f7e6-6836-4f3c-87b7-c9d2af9df701",
   "metadata": {},
   "outputs": [
    {
     "data": {
      "text/plain": [
       "tensor([[-2.6899, -0.0705, -8.3845],\n",
       "        [-2.5394, -6.2459, -0.0843]])"
      ]
     },
     "execution_count": 44,
     "metadata": {},
     "output_type": "execute_result"
    }
   ],
   "source": [
    "torch.log(probs)"
   ]
  },
  {
   "cell_type": "code",
   "execution_count": 46,
   "id": "9ce1c404-6c8b-4da1-81ea-9cdd805dded8",
   "metadata": {},
   "outputs": [
    {
     "data": {
      "text/plain": [
       "tensor([[1, 0, 0],\n",
       "        [0, 0, 1]])"
      ]
     },
     "execution_count": 46,
     "metadata": {},
     "output_type": "execute_result"
    }
   ],
   "source": [
    "y"
   ]
  },
  {
   "cell_type": "code",
   "execution_count": 45,
   "id": "51f836ec-b0ef-4cb9-9504-45e66d201767",
   "metadata": {},
   "outputs": [
    {
     "data": {
      "text/plain": [
       "tensor([[-2.6899, -0.0000, -0.0000],\n",
       "        [-0.0000, -0.0000, -0.0843]])"
      ]
     },
     "execution_count": 45,
     "metadata": {},
     "output_type": "execute_result"
    }
   ],
   "source": [
    "# mnożenie (element po elemencie) wybiera logproby dla prawidłowych etykiet\n",
    "y * torch.log(probs)"
   ]
  },
  {
   "cell_type": "code",
   "execution_count": 47,
   "id": "91b6d832-b9e0-4d94-a6ba-5711ca433bdb",
   "metadata": {},
   "outputs": [
    {
     "data": {
      "text/plain": [
       "tensor(-2.7742)"
      ]
     },
     "execution_count": 47,
     "metadata": {},
     "output_type": "execute_result"
    }
   ],
   "source": [
    "# sumowanie wszystkich przykładów - uwaga nawias jest potrzebny\n",
    "(y * torch.log(probs)).sum()"
   ]
  },
  {
   "cell_type": "code",
   "execution_count": 48,
   "id": "f5d6f68b-d517-451c-b55d-6c43318c9486",
   "metadata": {},
   "outputs": [
    {
     "data": {
      "text/plain": [
       "tensor(1.3871)"
      ]
     },
     "execution_count": 48,
     "metadata": {},
     "output_type": "execute_result"
    }
   ],
   "source": [
    "# pełna entropia krzyżowa - dodajemy minus i dzielimy przez liczbę przykładów, aby mieć średni koszt dla przykładu\n",
    "- (y * torch.log(probs)).sum()/2"
   ]
  },
  {
   "cell_type": "markdown",
   "id": "3368672c-44f1-4dcd-84f9-e853097f1006",
   "metadata": {},
   "source": [
    "#### Gradienty\n",
    "Źródło: [dokumentacja PyTorch](https://pytorch.org/tutorials/beginner/blitz/autograd_tutorial.html)"
   ]
  },
  {
   "cell_type": "markdown",
   "id": "55926af1-31e8-49ae-9541-fd46306f4105",
   "metadata": {},
   "source": [
    "$$ Q = 3a^3 - b^2$$\n",
    "$$\\frac{\\partial Q}{\\partial a} = 9a^2$$\n",
    "$$\\frac{\\partial Q}{\\partial b} = -2b$$"
   ]
  },
  {
   "cell_type": "code",
   "execution_count": 49,
   "id": "92f70fa2-f2c4-45ff-9e7a-597c9e9cfd0e",
   "metadata": {},
   "outputs": [
    {
     "name": "stdout",
     "output_type": "stream",
     "text": [
      "tensor(53., grad_fn=<SumBackward0>)\n"
     ]
    }
   ],
   "source": [
    "a = torch.tensor([2., 3.], requires_grad=True)\n",
    "b = torch.tensor([6., 4.], requires_grad=True)\n",
    "Q = (3*a**3 - b**2).sum()\n",
    "print(Q)"
   ]
  },
  {
   "cell_type": "code",
   "execution_count": 50,
   "id": "b31f5b47-de90-4cfd-ba10-ded8935e4c04",
   "metadata": {},
   "outputs": [],
   "source": [
    "# wywołanie funkcji backward wylicza gradienty i zapisuje je w atrybucie grad odpowiednich tensorów\n",
    "Q.backward()"
   ]
  },
  {
   "cell_type": "code",
   "execution_count": 51,
   "id": "4fe35c20-7749-4a1f-a140-ef59db015f27",
   "metadata": {},
   "outputs": [
    {
     "data": {
      "text/plain": [
       "tensor([36., 81.])"
      ]
     },
     "execution_count": 51,
     "metadata": {},
     "output_type": "execute_result"
    }
   ],
   "source": [
    "a.grad"
   ]
  },
  {
   "cell_type": "code",
   "execution_count": 52,
   "id": "e94cd545-2b6a-4921-9a7a-3d9aa5a862f5",
   "metadata": {},
   "outputs": [
    {
     "data": {
      "text/plain": [
       "tensor([-12.,  -8.])"
      ]
     },
     "execution_count": 52,
     "metadata": {},
     "output_type": "execute_result"
    }
   ],
   "source": [
    "b.grad"
   ]
  },
  {
   "cell_type": "markdown",
   "id": "a21aee4f-3baa-4e48-9662-cabe2e489fa9",
   "metadata": {},
   "source": [
    "#### Prosta pętla optymalizacji gradientowej\n",
    "Chcemy znaleźć minimum funkcji:\n",
    "$$f(x)=(x−3)^2$$"
   ]
  },
  {
   "cell_type": "code",
   "execution_count": 55,
   "id": "cd945fad-1e50-4742-86e3-16f65c7bb205",
   "metadata": {},
   "outputs": [
    {
     "name": "stdout",
     "output_type": "stream",
     "text": [
      "Krok 1: x = 0.6000000238418579, Loss = 9.0\n",
      "Krok 2: x = 1.0800000429153442, Loss = 5.760000228881836\n",
      "Krok 3: x = 1.4639999866485596, Loss = 3.6863999366760254\n",
      "Krok 4: x = 1.7711999416351318, Loss = 2.3592960834503174\n",
      "Krok 5: x = 2.0169599056243896, Loss = 1.5099495649337769\n",
      "Krok 6: x = 2.2135679721832275, Loss = 0.9663678407669067\n",
      "Krok 7: x = 2.370854377746582, Loss = 0.6184753179550171\n",
      "Krok 8: x = 2.4966835975646973, Loss = 0.39582422375679016\n",
      "Krok 9: x = 2.597346782684326, Loss = 0.2533273994922638\n",
      "Krok 10: x = 2.677877426147461, Loss = 0.16212961077690125\n",
      "Krok 11: x = 2.7423019409179688, Loss = 0.10376295447349548\n",
      "Krok 12: x = 2.793841600418091, Loss = 0.06640829145908356\n",
      "Krok 13: x = 2.835073232650757, Loss = 0.042501285672187805\n",
      "Krok 14: x = 2.868058681488037, Loss = 0.027200838550925255\n",
      "Krok 15: x = 2.894446849822998, Loss = 0.01740851067006588\n",
      "Krok 16: x = 2.915557384490967, Loss = 0.011141467839479446\n",
      "Krok 17: x = 2.932446002960205, Loss = 0.007130555342882872\n",
      "Krok 18: x = 2.9459567070007324, Loss = 0.004563542548567057\n",
      "Krok 19: x = 2.9567654132843018, Loss = 0.0029206774197518826\n",
      "Krok 20: x = 2.9654123783111572, Loss = 0.0018692294834181666\n",
      "Krok 21: x = 2.97232985496521, Loss = 0.001196303521282971\n",
      "Krok 22: x = 2.9778637886047363, Loss = 0.0007656369125470519\n",
      "Krok 23: x = 2.9822909832000732, Loss = 0.0004900118801742792\n",
      "Krok 24: x = 2.985832691192627, Loss = 0.0003136092855129391\n",
      "Krok 25: x = 2.98866605758667, Loss = 0.00020071264589205384\n",
      "Krok 26: x = 2.9909329414367676, Loss = 0.00012845825403928757\n",
      "Krok 27: x = 2.992746353149414, Loss = 8.221155439969152e-05\n",
      "Krok 28: x = 2.994197130203247, Loss = 5.261539263301529e-05\n",
      "Krok 29: x = 2.9953577518463135, Loss = 3.367329918546602e-05\n",
      "Krok 30: x = 2.996286153793335, Loss = 2.1550467863562517e-05\n",
      "Końcowa wartość x: 2.996286153793335\n"
     ]
    }
   ],
   "source": [
    "x = torch.tensor([0.0], requires_grad=True)  # zaczynamy z x = 0\n",
    "\n",
    "learning_rate = 0.1 # współczynnik uczenia\n",
    "epochs = 30  # liczba iteracji\n",
    "\n",
    "for epoch in range(epochs):\n",
    "    loss = (x - 3) ** 2  # wartość funkcji kosztu\n",
    "    \n",
    "    loss.backward()  # wyznaczamy gradient\n",
    "    \n",
    "    with torch.no_grad():  # aktualizujemy wartość x - nie chcemy, żeby ta operacja była uwzględniana w wyliczaniu gradientów\n",
    "        x -= learning_rate * x.grad\n",
    "        x.grad.zero_()  # Zerujemy gradienty przed kolejną pętlą - to ważne!\n",
    "\n",
    "    print(f\"Krok {epoch+1}: x = {x.item()}, Loss = {loss.item()}\")\n",
    "\n",
    "print(f\"Końcowa wartość x: {x.item()}\")\n"
   ]
  },
  {
   "cell_type": "code",
   "execution_count": 56,
   "id": "089e07fa-a7ba-44f1-8e05-e64f622c6e76",
   "metadata": {},
   "outputs": [
    {
     "data": {
      "text/plain": [
       "tensor([2.9963], requires_grad=True)"
      ]
     },
     "execution_count": 56,
     "metadata": {},
     "output_type": "execute_result"
    }
   ],
   "source": [
    "x"
   ]
  },
  {
   "cell_type": "code",
   "execution_count": 57,
   "id": "9ff0f9ad-f00b-4988-a2e8-4b9ae89d988e",
   "metadata": {},
   "outputs": [
    {
     "data": {
      "text/plain": [
       "2.996286153793335"
      ]
     },
     "execution_count": 57,
     "metadata": {},
     "output_type": "execute_result"
    }
   ],
   "source": [
    "# metoda item wyjmuje liczbę z tensora (tylko dla jednowymiarowych)\n",
    "x.item()"
   ]
  },
  {
   "cell_type": "markdown",
   "id": "94c3f3b8-3c26-44b6-9448-9793f9ec096d",
   "metadata": {},
   "source": [
    "#### Dodatki - elementy Pythona występujące na lab 2 (za tydzień)\n",
    "* (oprócz list) nie trzeba będzie tego implementować, ale dobrze jest rozumieć kod"
   ]
  },
  {
   "cell_type": "markdown",
   "id": "7c76031c-0075-41ec-b79f-45b90d56ec95",
   "metadata": {},
   "source": [
    "##### Listy"
   ]
  },
  {
   "cell_type": "code",
   "execution_count": 58,
   "id": "1e842909-d375-4fb4-9421-2559d6d98efe",
   "metadata": {},
   "outputs": [
    {
     "name": "stdout",
     "output_type": "stream",
     "text": [
      "['a', 'b', 'c']\n"
     ]
    }
   ],
   "source": [
    "# listy\n",
    "lista = ['a', 'b', 'c']\n",
    "print(lista)"
   ]
  },
  {
   "cell_type": "code",
   "execution_count": 60,
   "id": "5d1cdf5f-268d-49c1-aa43-d351901c20f4",
   "metadata": {},
   "outputs": [
    {
     "data": {
      "text/plain": [
       "'c'"
      ]
     },
     "execution_count": 60,
     "metadata": {},
     "output_type": "execute_result"
    }
   ],
   "source": [
    "# ostatni element listy\n",
    "lista[-1]"
   ]
  },
  {
   "cell_type": "code",
   "execution_count": 61,
   "id": "0dce981f-8a57-44cf-beda-d688c5b0b8d7",
   "metadata": {},
   "outputs": [
    {
     "data": {
      "text/plain": [
       "['b', 'c']"
      ]
     },
     "execution_count": 61,
     "metadata": {},
     "output_type": "execute_result"
    }
   ],
   "source": [
    "# elementy od elementu o indeksie 1 do końca listy\n",
    "lista[1:]"
   ]
  },
  {
   "cell_type": "code",
   "execution_count": 62,
   "id": "eed3b289-9fff-4c53-b890-b2a9d12c8cf7",
   "metadata": {},
   "outputs": [
    {
     "name": "stdout",
     "output_type": "stream",
     "text": [
      "a\n",
      "b\n",
      "c\n"
     ]
    }
   ],
   "source": [
    "for el in lista:\n",
    "    print(el)"
   ]
  },
  {
   "cell_type": "markdown",
   "id": "82ece73b-560d-4f35-9696-1e2746a5a5fb",
   "metadata": {},
   "source": [
    "##### Zip\n",
    "* łączy elementy iterowalne (np. listy) tworząc pary (lub krotki) z różnych list\n",
    "* Kończy jak krótszy z elementów iterowalnych się wyczerpie"
   ]
  },
  {
   "cell_type": "code",
   "execution_count": 63,
   "id": "69cc0ffe-9ca2-4840-811c-5dcc178f79e0",
   "metadata": {},
   "outputs": [],
   "source": [
    "lista1 = ['a', 'b', 'c']\n",
    "lista2 = ['d', 'e', 'f']"
   ]
  },
  {
   "cell_type": "code",
   "execution_count": 64,
   "id": "227aed02-59ed-4c8c-a1dc-5b43b3f85266",
   "metadata": {},
   "outputs": [
    {
     "name": "stdout",
     "output_type": "stream",
     "text": [
      "[('a', 'd'), ('b', 'e'), ('c', 'f')]\n"
     ]
    }
   ],
   "source": [
    "print(list(zip(lista1, lista2)))"
   ]
  },
  {
   "cell_type": "code",
   "execution_count": 65,
   "id": "feb24c8a-9072-494c-84ee-63323b45c54b",
   "metadata": {},
   "outputs": [
    {
     "name": "stdout",
     "output_type": "stream",
     "text": [
      "a d\n",
      "b e\n",
      "c f\n"
     ]
    }
   ],
   "source": [
    "for ch1, ch2 in zip(lista1, lista2):\n",
    "    print(ch1, ch2)"
   ]
  },
  {
   "cell_type": "code",
   "execution_count": 67,
   "id": "9ea023b7-27b5-4f7a-b38d-48cd02e3eee0",
   "metadata": {},
   "outputs": [
    {
     "data": {
      "text/plain": [
       "['a', 'b', 'c']"
      ]
     },
     "execution_count": 67,
     "metadata": {},
     "output_type": "execute_result"
    }
   ],
   "source": [
    "lista1"
   ]
  },
  {
   "cell_type": "code",
   "execution_count": 68,
   "id": "d34f260c-01ee-4097-969b-f3faf829574f",
   "metadata": {},
   "outputs": [
    {
     "data": {
      "text/plain": [
       "['d', 'e', 'f']"
      ]
     },
     "execution_count": 68,
     "metadata": {},
     "output_type": "execute_result"
    }
   ],
   "source": [
    "lista2"
   ]
  },
  {
   "cell_type": "code",
   "execution_count": 66,
   "id": "5c20a708-c519-4f56-ba19-978d1b973c48",
   "metadata": {},
   "outputs": [
    {
     "name": "stdout",
     "output_type": "stream",
     "text": [
      "a e\n",
      "b f\n"
     ]
    }
   ],
   "source": [
    "# teraz bierzemy z drugiej listy od elementu o indeksie 1 i mamy tylko dwie pary\n",
    "for ch1, ch2 in zip(lista1, lista2[1:]):\n",
    "    print(ch1, ch2)"
   ]
  },
  {
   "cell_type": "markdown",
   "id": "72754923-0a10-4232-acd0-8b9adac3ce97",
   "metadata": {},
   "source": [
    "##### List Comprehension"
   ]
  },
  {
   "cell_type": "code",
   "execution_count": null,
   "id": "047465e3-d8ae-4b9e-a279-860099bbd87f",
   "metadata": {},
   "outputs": [],
   "source": [
    "[i for i in range(10)]"
   ]
  },
  {
   "cell_type": "code",
   "execution_count": null,
   "id": "c84bee92-481c-4f22-bb51-19d361230bb0",
   "metadata": {},
   "outputs": [],
   "source": [
    "[i**2 for i in range(10)]"
   ]
  },
  {
   "cell_type": "markdown",
   "id": "a1a8d071-0ff9-4792-ba45-4171f9fd3655",
   "metadata": {},
   "source": [
    "##### NumPy\n",
    "* NumPy jest podstawową biblioteką do obliczeń numerycznych w Pythonie\n",
    "* Większość składni i funkcjonalności jest bardzo podobna jak dla tensorów PyTorcha\n",
    "* Będziemy czasem korzystać"
   ]
  },
  {
   "cell_type": "code",
   "execution_count": null,
   "id": "d48a48ba-8383-45b6-88ee-c9bfbbaef29b",
   "metadata": {},
   "outputs": [],
   "source": [
    "import numpy as np"
   ]
  },
  {
   "cell_type": "code",
   "execution_count": null,
   "id": "5f5e53b9-5345-469e-b98b-261aff7df184",
   "metadata": {},
   "outputs": [],
   "source": [
    "# tego losowania niestety PyTorch nie zapewnia w wygodny sposób więc wykorzystamy bibliotekę numpy\n",
    "# losujemy liczby z prawdopodobieństwami podanymi w p\n",
    "np.random.choice(3, p=[0.1, 0.2, 0.7])"
   ]
  },
  {
   "cell_type": "code",
   "execution_count": null,
   "id": "f7515785-6d88-46ac-ab19-7736d94bd817",
   "metadata": {},
   "outputs": [],
   "source": [
    "# losowanie liczb całkowitych z rozkładu jednostajnego\n",
    "np.random.randint(0, 10, size=5)"
   ]
  },
  {
   "cell_type": "code",
   "execution_count": null,
   "id": "0d3beb9b-6ce6-4e5c-bca1-a93bbd2471dd",
   "metadata": {},
   "outputs": [],
   "source": []
  }
 ],
 "metadata": {
  "kernelspec": {
   "display_name": "dydaktyka_LLM",
   "language": "python",
   "name": "dydaktyka_llm"
  },
  "language_info": {
   "codemirror_mode": {
    "name": "ipython",
    "version": 3
   },
   "file_extension": ".py",
   "mimetype": "text/x-python",
   "name": "python",
   "nbconvert_exporter": "python",
   "pygments_lexer": "ipython3",
   "version": "3.12.3"
  }
 },
 "nbformat": 4,
 "nbformat_minor": 5
}
