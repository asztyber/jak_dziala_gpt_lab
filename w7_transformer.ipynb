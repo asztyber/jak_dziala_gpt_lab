{
 "cells": [
  {
   "cell_type": "markdown",
   "id": "c2783e3b-300c-415d-ab3e-15c446b5beb7",
   "metadata": {},
   "source": [
    "## Wykład 7 Jak działa GPT?\n",
    "### Architektura transformer"
   ]
  },
  {
   "cell_type": "code",
   "execution_count": 1,
   "id": "bda4738d-2881-426c-97f0-6fea1b4a13dd",
   "metadata": {},
   "outputs": [],
   "source": [
    "import torch\n",
    "import torch.nn.functional as F\n",
    "import torch.nn as nn\n",
    "import matplotlib.pyplot as plt"
   ]
  },
  {
   "cell_type": "code",
   "execution_count": 12,
   "id": "8512f720-d7c1-4b47-8b17-947244444265",
   "metadata": {},
   "outputs": [],
   "source": [
    "torch.set_printoptions(precision=2, sci_mode=False)"
   ]
  },
  {
   "cell_type": "markdown",
   "id": "931b3055-7ba4-4170-9872-7e2dfd647035",
   "metadata": {},
   "source": [
    "### Maskowana atencja\n",
    "* ignorujemy na razie batch size\n",
    "* w implementacji na laboratorium dochodzi jeszcze batch size jako pierwszy wymiar\n",
    "* ale to nie zmienia wzorów i implemnetacji (chyba, że omówione dalej)"
   ]
  },
  {
   "cell_type": "markdown",
   "id": "7a085367-750d-49a5-ba22-439197af13c6",
   "metadata": {},
   "source": [
    "$$Q = X W_Q,\\quad K = X W_K,\\quad V = X W_V$$\n",
    "$$\\text{scores} = \\frac{QK^{T}}{\\sqrt{d_{head}}}$$\n",
    "$$ \\text{mask}_{ij} = \n",
    "\\begin{cases}\n",
    "1 & \\text{if } j \\leq i \\\\\n",
    "0 & \\text{if } j > i\n",
    "\\end{cases} \\qquad \\text{macierz trójkątna dolna}$$\n",
    "$$\\text{masked\\_scores}_{ij} = \\begin{cases}\n",
    "\\text{scores}_{ij} & \\text{if } \\text{mask}_{ij} = 1 \\\\\n",
    "-\\infty & \\text{if } \\text{mask}_{ij} = 0\n",
    "\\end{cases} $$\n",
    "$$\\text{attention} = \\text{softmax}\\left(\\text{masked\\_scores}\\right)$$\n",
    "$$ \\text{weighted\\_values} = \\text{attention} \\cdot V $$\n",
    "$$ out = \\text{weighted\\_values} \\cdot W_{out} $$"
   ]
  },
  {
   "cell_type": "code",
   "execution_count": 13,
   "id": "b2fffe08-d2db-43b9-923c-e328beed1273",
   "metadata": {},
   "outputs": [],
   "source": [
    "seq_len = 4\n",
    "d_model = 6\n",
    "d_head = 2"
   ]
  },
  {
   "cell_type": "code",
   "execution_count": 14,
   "id": "b1ccde29-cc2d-4466-9d18-2cb289af4705",
   "metadata": {},
   "outputs": [
    {
     "data": {
      "text/plain": [
       "tensor([[ 1.06, -1.32,  0.72,  0.27, -0.93,  0.54],\n",
       "        [ 1.27,  0.01,  1.22,  0.74,  1.56,  1.05],\n",
       "        [-0.33, -0.77, -1.28,  0.59,  0.12, -0.25],\n",
       "        [ 0.08, -1.28,  0.37, -0.06, -0.59, -1.18]])"
      ]
     },
     "execution_count": 14,
     "metadata": {},
     "output_type": "execute_result"
    }
   ],
   "source": [
    "# dane wejściowe\n",
    "x = torch.randn(seq_len, d_model)\n",
    "x"
   ]
  },
  {
   "cell_type": "markdown",
   "id": "5106ebc3-1db7-4cf8-9c8a-b2385b618bf1",
   "metadata": {},
   "source": [
    "Zapytania (quesries $Q$), klucze (keys $K$) i wartości (values $V$):\n",
    "$$Q = X W_Q,\\quad K = X W_K,\\quad V = X W_V$$"
   ]
  },
  {
   "cell_type": "code",
   "execution_count": 15,
   "id": "8feffdfd-de24-4ace-9a9c-5cde1de2d5fd",
   "metadata": {},
   "outputs": [],
   "source": [
    "Wk = nn.Linear(d_model, d_head, bias=False)\n",
    "Wq = nn.Linear(d_model, d_head, bias=False)\n",
    "Wv = nn.Linear(d_model, d_head, bias=False)"
   ]
  },
  {
   "cell_type": "code",
   "execution_count": 16,
   "id": "6b37d410-70cc-4ca8-90e2-25057ff6b4e1",
   "metadata": {},
   "outputs": [
    {
     "name": "stdout",
     "output_type": "stream",
     "text": [
      "torch.Size([4, 2])\n"
     ]
    }
   ],
   "source": [
    "K = Wk(x)\n",
    "Q = Wq(x)\n",
    "V = Wv(x)\n",
    "print(K.shape)"
   ]
  },
  {
   "cell_type": "code",
   "execution_count": 17,
   "id": "f5ca0e28-b95b-440f-b2a1-448610aa4847",
   "metadata": {},
   "outputs": [
    {
     "data": {
      "text/plain": [
       "tensor([[-0.36, -0.39],\n",
       "        [ 0.47, -0.69],\n",
       "        [ 0.14, -0.06],\n",
       "        [-0.31,  0.25]], grad_fn=<MmBackward0>)"
      ]
     },
     "execution_count": 17,
     "metadata": {},
     "output_type": "execute_result"
    }
   ],
   "source": [
    "K"
   ]
  },
  {
   "cell_type": "markdown",
   "id": "36e5c54b-022a-4c5e-b4c7-d9ed091feaea",
   "metadata": {},
   "source": [
    "Dzielenie przez $\\sqrt{d_{head}}$ służy normalizacji (za duże wartości powodują, że większość prawdopodobieństwa po softmax jest przypisana do jednej wartości)\n",
    "$$\\text{scores} = \\frac{QK^{T}}{\\sqrt{d_{head}}}$$"
   ]
  },
  {
   "cell_type": "code",
   "execution_count": 18,
   "id": "2b5283c3-a600-40f5-9fe0-a284d83ea57a",
   "metadata": {},
   "outputs": [
    {
     "data": {
      "text/plain": [
       "tensor([[-0.36,  0.47,  0.14, -0.31],\n",
       "        [-0.39, -0.69, -0.06,  0.25]], grad_fn=<TransposeBackward0>)"
      ]
     },
     "execution_count": 18,
     "metadata": {},
     "output_type": "execute_result"
    }
   ],
   "source": [
    "# https://pytorch.org/docs/stable/generated/torch.transpose.html\n",
    "# Returns a tensor that is a transposed version of input. The given dimensions dim0 and dim1 are swapped.\n",
    "K.transpose(-2, -1)"
   ]
  },
  {
   "cell_type": "code",
   "execution_count": 19,
   "id": "63af97f0-4215-418b-9c3b-8377a5bf5ae0",
   "metadata": {},
   "outputs": [
    {
     "name": "stdout",
     "output_type": "stream",
     "text": [
      "torch.Size([4, 4])\n",
      "tensor([[ 0.15,  0.70,  0.10, -0.30],\n",
      "        [ 0.18,  0.16, -0.00, -0.04],\n",
      "        [-0.19,  0.33,  0.09, -0.20],\n",
      "        [ 0.02,  0.68,  0.11, -0.32]], grad_fn=<MulBackward0>)\n"
     ]
    }
   ],
   "source": [
    "scores = Q @ K.transpose(-2, -1) * d_head ** (-0.5)\n",
    "print(scores.shape)\n",
    "print(scores)"
   ]
  },
  {
   "cell_type": "markdown",
   "id": "67e106c7-66c3-407f-bf22-b82753f68666",
   "metadata": {},
   "source": [
    "Celem stosowania maski jest pominięcie przyszłych elementów sekwencji w predykcji:\n",
    "\n",
    "$$ \\text{mask}_{ij} = \n",
    "\\begin{cases}\n",
    "1 & \\text{if } j \\leq i \\\\\n",
    "0 & \\text{if } j > i\n",
    "\\end{cases} \\qquad \\text{macierz trójkątna dolna}$$\n",
    "$$\\text{masked\\_scores}_{ij} = \\begin{cases}\n",
    "\\text{scores}_{ij} & \\text{if } \\text{mask}_{ij} = 1 \\\\\n",
    "-\\infty & \\text{if } \\text{mask}_{ij} = 0\n",
    "\\end{cases} $$"
   ]
  },
  {
   "cell_type": "code",
   "execution_count": 20,
   "id": "df0def3b-cdf5-40f5-8ffc-4a2c5cdf7fa2",
   "metadata": {},
   "outputs": [
    {
     "data": {
      "text/plain": [
       "tensor([[1., 0., 0., 0.],\n",
       "        [1., 1., 0., 0.],\n",
       "        [1., 1., 1., 0.],\n",
       "        [1., 1., 1., 1.]])"
      ]
     },
     "execution_count": 20,
     "metadata": {},
     "output_type": "execute_result"
    }
   ],
   "source": [
    "mask = torch.tril(torch.ones(seq_len, seq_len))\n",
    "mask"
   ]
  },
  {
   "cell_type": "code",
   "execution_count": 21,
   "id": "10570e43-48f6-4860-a920-4514e33bfd48",
   "metadata": {},
   "outputs": [
    {
     "data": {
      "text/plain": [
       "tensor([[ 0.15,  -inf,  -inf,  -inf],\n",
       "        [ 0.18,  0.16,  -inf,  -inf],\n",
       "        [-0.19,  0.33,  0.09,  -inf],\n",
       "        [ 0.02,  0.68,  0.11, -0.32]], grad_fn=<MaskedFillBackward0>)"
      ]
     },
     "execution_count": 21,
     "metadata": {},
     "output_type": "execute_result"
    }
   ],
   "source": [
    "masked_scores = scores.masked_fill(mask == 0, float('-inf'))\n",
    "masked_scores"
   ]
  },
  {
   "cell_type": "markdown",
   "id": "effa83a2-2f7a-47b3-83cd-4aefbc144eb6",
   "metadata": {},
   "source": [
    "Atencja:\n",
    "$$\\text{attention} = \\text{softmax}\\left(\\text{masked\\_scores}\\right)$$"
   ]
  },
  {
   "cell_type": "code",
   "execution_count": 22,
   "id": "a657cbec-c674-488f-85f7-e340d1953aac",
   "metadata": {},
   "outputs": [
    {
     "data": {
      "text/plain": [
       "tensor([[1.00, 0.00, 0.00, 0.00],\n",
       "        [0.50, 0.50, 0.00, 0.00],\n",
       "        [0.25, 0.42, 0.33, 0.00],\n",
       "        [0.21, 0.41, 0.23, 0.15]], grad_fn=<SoftmaxBackward0>)"
      ]
     },
     "execution_count": 22,
     "metadata": {},
     "output_type": "execute_result"
    }
   ],
   "source": [
    "attention = F.softmax(masked_scores, dim=-1)\n",
    "attention"
   ]
  },
  {
   "cell_type": "markdown",
   "id": "fd6e6fef-ccc6-4962-8170-4f412e038c04",
   "metadata": {},
   "source": [
    "Bierzemy $V$ z wagami wyznaczonymi przez atencję\n",
    "$$ \\text{weighted\\_values} = \\text{attention} \\cdot V $$"
   ]
  },
  {
   "cell_type": "code",
   "execution_count": 23,
   "id": "d6ea192a-23c1-4ea7-8f12-b22a95f13a95",
   "metadata": {},
   "outputs": [
    {
     "data": {
      "text/plain": [
       "tensor([[ 0.61,  0.49],\n",
       "        [-0.13,  1.15],\n",
       "        [ 0.14, -0.52],\n",
       "        [ 0.27, -0.55]], grad_fn=<MmBackward0>)"
      ]
     },
     "execution_count": 23,
     "metadata": {},
     "output_type": "execute_result"
    }
   ],
   "source": [
    "V"
   ]
  },
  {
   "cell_type": "code",
   "execution_count": 24,
   "id": "9d1014cc-4a55-43ab-97e0-36a1dcf13458",
   "metadata": {},
   "outputs": [
    {
     "data": {
      "text/plain": [
       "tensor([[0.61, 0.49],\n",
       "        [0.24, 0.82],\n",
       "        [0.15, 0.43],\n",
       "        [0.15, 0.37]], grad_fn=<MmBackward0>)"
      ]
     },
     "execution_count": 24,
     "metadata": {},
     "output_type": "execute_result"
    }
   ],
   "source": [
    "weighted_values = attention @ V\n",
    "weighted_values"
   ]
  },
  {
   "cell_type": "markdown",
   "id": "af742a7b-6bcd-4c84-8194-f0a4d6cdd6b1",
   "metadata": {},
   "source": [
    "Przekształcamy ponownie do rozmiaru *d_model*:\n",
    "$$ out = \\text{weighted\\_values} \\cdot W_{out} $$"
   ]
  },
  {
   "cell_type": "code",
   "execution_count": 25,
   "id": "1cdcfa64-671d-48ec-aa44-f58d15e72205",
   "metadata": {},
   "outputs": [],
   "source": [
    "Wout = nn.Linear(d_head, d_model, bias=False)"
   ]
  },
  {
   "cell_type": "code",
   "execution_count": 26,
   "id": "14386b59-e341-46d0-9ab8-5fb17dde1909",
   "metadata": {},
   "outputs": [
    {
     "data": {
      "text/plain": [
       "tensor([[ 0.11,  0.04, -0.10,  0.49, -0.06,  0.22],\n",
       "        [ 0.10,  0.10,  0.19,  0.43, -0.29,  0.39],\n",
       "        [ 0.05,  0.05,  0.09,  0.24, -0.15,  0.21],\n",
       "        [ 0.05,  0.04,  0.07,  0.21, -0.12,  0.17]], grad_fn=<MmBackward0>)"
      ]
     },
     "execution_count": 26,
     "metadata": {},
     "output_type": "execute_result"
    }
   ],
   "source": [
    "out = Wout(weighted_values)\n",
    "out"
   ]
  },
  {
   "cell_type": "markdown",
   "id": "0813ab8b-f6f8-4a04-a832-4db4e2e010fc",
   "metadata": {},
   "source": [
    "### Wymiary\n",
    "* przetwarzamy dane wejściowe o kształcie *batch_size* x *seq_len*\n",
    "* potem wewnątrz modelu zamieniamy tokeny na reprezentację wektorową\n",
    "* i przetwarzamy *batch_size* x *d_model* x *seq_len*\n",
    "* *d_model* to długość reprezentacji wektorowej dla tokenu"
   ]
  },
  {
   "cell_type": "code",
   "execution_count": 27,
   "id": "3f2ec72d-7780-4374-983f-ab2c126ccd30",
   "metadata": {},
   "outputs": [],
   "source": [
    "vocab_size = 5\n",
    "batch_size = 2\n",
    "seq_len = 3\n",
    "d_model = 4"
   ]
  },
  {
   "cell_type": "code",
   "execution_count": 28,
   "id": "84a58136-3d93-4ee3-af69-c95753a33235",
   "metadata": {},
   "outputs": [
    {
     "data": {
      "text/plain": [
       "tensor([[4, 4, 3],\n",
       "        [2, 0, 3]])"
      ]
     },
     "execution_count": 28,
     "metadata": {},
     "output_type": "execute_result"
    }
   ],
   "source": [
    "X = torch.randint(high=vocab_size, size=(batch_size, seq_len))\n",
    "X"
   ]
  },
  {
   "cell_type": "code",
   "execution_count": 29,
   "id": "bff185dd-19ac-46ef-aad5-8f6c26010b0d",
   "metadata": {},
   "outputs": [],
   "source": [
    "emb = nn.Embedding(vocab_size, d_model) "
   ]
  },
  {
   "cell_type": "code",
   "execution_count": 30,
   "id": "c32fa7c2-72c6-40fc-a11a-4264770701f2",
   "metadata": {},
   "outputs": [
    {
     "data": {
      "text/plain": [
       "tensor([[[-1.47,  0.91, -0.36, -0.23],\n",
       "         [-1.47,  0.91, -0.36, -0.23],\n",
       "         [-1.10,  0.10,  0.92, -0.08]],\n",
       "\n",
       "        [[-1.10, -1.00,  0.34, -0.07],\n",
       "         [ 0.50, -1.38,  0.20,  0.14],\n",
       "         [-1.10,  0.10,  0.92, -0.08]]], grad_fn=<EmbeddingBackward0>)"
      ]
     },
     "execution_count": 30,
     "metadata": {},
     "output_type": "execute_result"
    }
   ],
   "source": [
    "x_emb = emb(X)\n",
    "x_emb"
   ]
  },
  {
   "cell_type": "code",
   "execution_count": 31,
   "id": "377b1751-18e8-4a4e-b00a-412d97d192b7",
   "metadata": {},
   "outputs": [
    {
     "data": {
      "text/plain": [
       "torch.Size([2, 3, 4])"
      ]
     },
     "execution_count": 31,
     "metadata": {},
     "output_type": "execute_result"
    }
   ],
   "source": [
    "x_emb.shape"
   ]
  },
  {
   "cell_type": "markdown",
   "id": "5180fe1d-119a-4d77-a69c-1a043d27c12c",
   "metadata": {},
   "source": [
    "#### Entropia krzyżowa w 3 wymiarach"
   ]
  },
  {
   "cell_type": "code",
   "execution_count": 32,
   "id": "52ed93ef-45f3-457f-ac69-4ed26d1f9aa5",
   "metadata": {},
   "outputs": [
    {
     "data": {
      "text/plain": [
       "tensor([[4, 4, 2],\n",
       "        [4, 1, 0]])"
      ]
     },
     "execution_count": 32,
     "metadata": {},
     "output_type": "execute_result"
    }
   ],
   "source": [
    "y = torch.randint(high=vocab_size, size=(batch_size, seq_len))\n",
    "y"
   ]
  },
  {
   "cell_type": "code",
   "execution_count": 33,
   "id": "2918df70-9be9-490f-bf4e-350054e1948a",
   "metadata": {},
   "outputs": [
    {
     "data": {
      "text/plain": [
       "tensor([[[ 0.33,  0.82,  0.18,  2.91, -0.17],\n",
       "         [ 0.85,  1.10, -0.44,  0.47, -1.42],\n",
       "         [-0.44,  0.97, -0.13,  1.53,  0.16]],\n",
       "\n",
       "        [[ 1.08, -0.08,  0.73,  0.94, -2.15],\n",
       "         [-0.25, -0.21,  0.24,  0.65,  0.38],\n",
       "         [ 1.08,  0.05,  0.05, -0.57,  0.68]]])"
      ]
     },
     "execution_count": 33,
     "metadata": {},
     "output_type": "execute_result"
    }
   ],
   "source": [
    "logits = torch.randn(batch_size, seq_len, vocab_size)\n",
    "logits"
   ]
  },
  {
   "cell_type": "code",
   "execution_count": 34,
   "id": "ba7bfc59-f940-458b-996d-e34f5130ade1",
   "metadata": {},
   "outputs": [
    {
     "ename": "RuntimeError",
     "evalue": "Expected target size [2, 5], got [2, 3]",
     "output_type": "error",
     "traceback": [
      "\u001b[0;31m---------------------------------------------------------------------------\u001b[0m",
      "\u001b[0;31mRuntimeError\u001b[0m                              Traceback (most recent call last)",
      "Cell \u001b[0;32mIn[34], line 1\u001b[0m\n\u001b[0;32m----> 1\u001b[0m \u001b[43mF\u001b[49m\u001b[38;5;241;43m.\u001b[39;49m\u001b[43mcross_entropy\u001b[49m\u001b[43m(\u001b[49m\u001b[43mlogits\u001b[49m\u001b[43m,\u001b[49m\u001b[43m \u001b[49m\u001b[43my\u001b[49m\u001b[43m)\u001b[49m\n",
      "File \u001b[0;32m~/dydaktyka_LLM/lib/python3.12/site-packages/torch/nn/functional.py:3494\u001b[0m, in \u001b[0;36mcross_entropy\u001b[0;34m(input, target, weight, size_average, ignore_index, reduce, reduction, label_smoothing)\u001b[0m\n\u001b[1;32m   3492\u001b[0m \u001b[38;5;28;01mif\u001b[39;00m size_average \u001b[38;5;129;01mis\u001b[39;00m \u001b[38;5;129;01mnot\u001b[39;00m \u001b[38;5;28;01mNone\u001b[39;00m \u001b[38;5;129;01mor\u001b[39;00m reduce \u001b[38;5;129;01mis\u001b[39;00m \u001b[38;5;129;01mnot\u001b[39;00m \u001b[38;5;28;01mNone\u001b[39;00m:\n\u001b[1;32m   3493\u001b[0m     reduction \u001b[38;5;241m=\u001b[39m _Reduction\u001b[38;5;241m.\u001b[39mlegacy_get_string(size_average, reduce)\n\u001b[0;32m-> 3494\u001b[0m \u001b[38;5;28;01mreturn\u001b[39;00m \u001b[43mtorch\u001b[49m\u001b[38;5;241;43m.\u001b[39;49m\u001b[43m_C\u001b[49m\u001b[38;5;241;43m.\u001b[39;49m\u001b[43m_nn\u001b[49m\u001b[38;5;241;43m.\u001b[39;49m\u001b[43mcross_entropy_loss\u001b[49m\u001b[43m(\u001b[49m\n\u001b[1;32m   3495\u001b[0m \u001b[43m    \u001b[49m\u001b[38;5;28;43minput\u001b[39;49m\u001b[43m,\u001b[49m\n\u001b[1;32m   3496\u001b[0m \u001b[43m    \u001b[49m\u001b[43mtarget\u001b[49m\u001b[43m,\u001b[49m\n\u001b[1;32m   3497\u001b[0m \u001b[43m    \u001b[49m\u001b[43mweight\u001b[49m\u001b[43m,\u001b[49m\n\u001b[1;32m   3498\u001b[0m \u001b[43m    \u001b[49m\u001b[43m_Reduction\u001b[49m\u001b[38;5;241;43m.\u001b[39;49m\u001b[43mget_enum\u001b[49m\u001b[43m(\u001b[49m\u001b[43mreduction\u001b[49m\u001b[43m)\u001b[49m\u001b[43m,\u001b[49m\n\u001b[1;32m   3499\u001b[0m \u001b[43m    \u001b[49m\u001b[43mignore_index\u001b[49m\u001b[43m,\u001b[49m\n\u001b[1;32m   3500\u001b[0m \u001b[43m    \u001b[49m\u001b[43mlabel_smoothing\u001b[49m\u001b[43m,\u001b[49m\n\u001b[1;32m   3501\u001b[0m \u001b[43m\u001b[49m\u001b[43m)\u001b[49m\n",
      "\u001b[0;31mRuntimeError\u001b[0m: Expected target size [2, 5], got [2, 3]"
     ]
    }
   ],
   "source": [
    "F.cross_entropy(logits, y)"
   ]
  },
  {
   "cell_type": "markdown",
   "id": "6ea7e835-af8e-4bec-ba56-1ca8ade40db9",
   "metadata": {},
   "source": [
    "#### Entropia krzyżowa dla większej liczby wymiarów\n",
    "https://pytorch.org/docs/stable/generated/torch.nn.functional.cross_entropy.html\n",
    "\n",
    "* Uwaga: prawdopodobieństwa (logity) muszą mieć wymiar liczba przykładów x liczba klas\n",
    "* Przekształcamy logity do kształtu (*batch_size* * *seq_len*, *vocab_size*)\n",
    "* A etykiety do kształtu (*batch_size* * *seq_len*)\n",
    "* W ten sposób wyznaczamy predykcję i liczymy funkcję straty **dla każdego elementu sekwencji** (nie tylko ostatniego)"
   ]
  },
  {
   "cell_type": "code",
   "execution_count": 35,
   "id": "40b3a300-0e19-4715-8a74-3ceea275b660",
   "metadata": {},
   "outputs": [
    {
     "data": {
      "text/plain": [
       "tensor([[ 0.33,  0.82,  0.18,  2.91, -0.17],\n",
       "        [ 0.85,  1.10, -0.44,  0.47, -1.42],\n",
       "        [-0.44,  0.97, -0.13,  1.53,  0.16],\n",
       "        [ 1.08, -0.08,  0.73,  0.94, -2.15],\n",
       "        [-0.25, -0.21,  0.24,  0.65,  0.38],\n",
       "        [ 1.08,  0.05,  0.05, -0.57,  0.68]])"
      ]
     },
     "execution_count": 35,
     "metadata": {},
     "output_type": "execute_result"
    }
   ],
   "source": [
    "# do zmiany wymiaru używamy view\n",
    "logits.view(batch_size * seq_len, vocab_size)"
   ]
  },
  {
   "cell_type": "code",
   "execution_count": 36,
   "id": "07c2f6dd-e843-489d-b663-520c40c3d30a",
   "metadata": {},
   "outputs": [
    {
     "data": {
      "text/plain": [
       "torch.Size([6, 5])"
      ]
     },
     "execution_count": 36,
     "metadata": {},
     "output_type": "execute_result"
    }
   ],
   "source": [
    "logits.view(batch_size * seq_len, vocab_size).shape"
   ]
  },
  {
   "cell_type": "code",
   "execution_count": 37,
   "id": "35199708-e2f8-4855-bb84-c10e3eeeaa08",
   "metadata": {},
   "outputs": [
    {
     "data": {
      "text/plain": [
       "tensor(2.76)"
      ]
     },
     "execution_count": 37,
     "metadata": {},
     "output_type": "execute_result"
    }
   ],
   "source": [
    "loss = F.cross_entropy(logits.view(batch_size * seq_len, vocab_size), y.view(batch_size * seq_len)) # zmiana kształtu https://pytorch.org/docs/stable/generated/torch.nn.functional.cross_entropy.html\n",
    "loss"
   ]
  },
  {
   "cell_type": "markdown",
   "id": "b6e45bf5-a77f-4345-aca2-5c3a6353ca8e",
   "metadata": {},
   "source": [
    "### Module list i sumowanie wyjść"
   ]
  },
  {
   "cell_type": "code",
   "execution_count": 38,
   "id": "36941b59-755e-4738-9a9c-8fb7e28b28d3",
   "metadata": {},
   "outputs": [],
   "source": [
    "ml = nn.ModuleList([nn.Linear(2, 3) for i in range(4)])"
   ]
  },
  {
   "cell_type": "code",
   "execution_count": 39,
   "id": "94ab293c-e8cb-4db7-826a-c3b606df3489",
   "metadata": {},
   "outputs": [
    {
     "data": {
      "text/plain": [
       "ModuleList(\n",
       "  (0-3): 4 x Linear(in_features=2, out_features=3, bias=True)\n",
       ")"
      ]
     },
     "execution_count": 39,
     "metadata": {},
     "output_type": "execute_result"
    }
   ],
   "source": [
    "ml"
   ]
  },
  {
   "cell_type": "code",
   "execution_count": 40,
   "id": "b29601e4-27f9-451b-ab17-99cd9e96738e",
   "metadata": {},
   "outputs": [
    {
     "data": {
      "text/plain": [
       "Linear(in_features=2, out_features=3, bias=True)"
      ]
     },
     "execution_count": 40,
     "metadata": {},
     "output_type": "execute_result"
    }
   ],
   "source": [
    "ml[0]"
   ]
  },
  {
   "cell_type": "code",
   "execution_count": 41,
   "id": "17701362-50ff-4d1e-b7a4-d2069ca363cf",
   "metadata": {},
   "outputs": [
    {
     "data": {
      "text/plain": [
       "tensor([[-0.06, -0.02],\n",
       "        [-0.08, -0.53]])"
      ]
     },
     "execution_count": 41,
     "metadata": {},
     "output_type": "execute_result"
    }
   ],
   "source": [
    "x = torch.randn(2, 2)\n",
    "x"
   ]
  },
  {
   "cell_type": "code",
   "execution_count": 42,
   "id": "cca66b19-da95-4b9f-a2e7-34b51fcf8284",
   "metadata": {},
   "outputs": [
    {
     "data": {
      "text/plain": [
       "tensor([[-0.05, -0.56,  0.70],\n",
       "        [-0.11, -0.91,  0.90]], grad_fn=<AddmmBackward0>)"
      ]
     },
     "execution_count": 42,
     "metadata": {},
     "output_type": "execute_result"
    }
   ],
   "source": [
    "out = ml[0](x)\n",
    "out"
   ]
  },
  {
   "cell_type": "code",
   "execution_count": 44,
   "id": "4541882d-48c7-4488-9716-15ad60dd486c",
   "metadata": {},
   "outputs": [],
   "source": [
    "# stosujemy do x każdą warstwę i sumujemy wyniki\n",
    "for layer in ml[1:]:\n",
    "    out += layer(x) "
   ]
  },
  {
   "cell_type": "code",
   "execution_count": 45,
   "id": "a95691fb-e2c8-4821-b8a2-6b499d01accd",
   "metadata": {},
   "outputs": [
    {
     "data": {
      "text/plain": [
       "tensor([[-0.04, -0.97,  1.44],\n",
       "        [-1.40, -1.18,  2.53]], grad_fn=<AddBackward0>)"
      ]
     },
     "execution_count": 45,
     "metadata": {},
     "output_type": "execute_result"
    }
   ],
   "source": [
    "out"
   ]
  },
  {
   "cell_type": "markdown",
   "id": "ae1ea0e6-6916-45d2-906a-76a1332cf137",
   "metadata": {},
   "source": [
    "### Kodowanie pozycyjne (positional embedding)\n",
    "* Mechanizm atencji odpowiada za kopiowanie wartości podobnych (istotnych tokenów) do bieżącego tokenu\n",
    "* Ale token nie ma **żadnej informacji** na jakiej pozycji w sekwencji się znajduje\n",
    "* Rozwiązujemy to porzez dodanie **positional embedding** które koduje **pozycję tokenu**\n",
    "* Uwaga! Na wejściu tego embeddingu nie ma danych wejściowych (tekstu, tokenów), tylko **numery polejne pozycji w sekwencji**"
   ]
  },
  {
   "cell_type": "code",
   "execution_count": 46,
   "id": "993578d0-913c-47d2-82e2-e5c2929f0d1c",
   "metadata": {},
   "outputs": [],
   "source": [
    "pos_emb = nn.Embedding(seq_len, d_model)"
   ]
  },
  {
   "cell_type": "code",
   "execution_count": 47,
   "id": "94893b3a-7019-41a9-a8d5-7f7d10a8e38b",
   "metadata": {},
   "outputs": [
    {
     "data": {
      "text/plain": [
       "Embedding(3, 4)"
      ]
     },
     "execution_count": 47,
     "metadata": {},
     "output_type": "execute_result"
    }
   ],
   "source": [
    "pos_emb"
   ]
  },
  {
   "cell_type": "code",
   "execution_count": 48,
   "id": "3c2b6432-5f85-4f2e-bfec-1224515c6f82",
   "metadata": {},
   "outputs": [
    {
     "data": {
      "text/plain": [
       "tensor([[0, 1, 2]])"
      ]
     },
     "execution_count": 48,
     "metadata": {},
     "output_type": "execute_result"
    }
   ],
   "source": [
    "torch.tensor([range(seq_len)])"
   ]
  },
  {
   "cell_type": "code",
   "execution_count": 49,
   "id": "826d52ea-1f4a-4ce4-ba38-a525e484d35d",
   "metadata": {},
   "outputs": [
    {
     "data": {
      "text/plain": [
       "tensor([[[ 0.78, -1.03,  0.40,  0.52],\n",
       "         [-1.26,  1.04,  0.49,  1.83],\n",
       "         [ 0.45,  0.91,  0.39, -0.20]]], grad_fn=<EmbeddingBackward0>)"
      ]
     },
     "execution_count": 49,
     "metadata": {},
     "output_type": "execute_result"
    }
   ],
   "source": [
    "pos_emb(torch.tensor([range(seq_len)]))"
   ]
  },
  {
   "cell_type": "code",
   "execution_count": 50,
   "id": "32b06c18-6036-4e4a-9e54-792dca39d73f",
   "metadata": {},
   "outputs": [
    {
     "data": {
      "text/plain": [
       "torch.Size([1, 3, 4])"
      ]
     },
     "execution_count": 50,
     "metadata": {},
     "output_type": "execute_result"
    }
   ],
   "source": [
    "pos_emb(torch.tensor([range(seq_len)])).shape"
   ]
  },
  {
   "cell_type": "markdown",
   "id": "b2cfde76-6bbf-418f-b18c-d279e5c5b61d",
   "metadata": {},
   "source": [
    "### Funkcja aktywacji GELU"
   ]
  },
  {
   "cell_type": "code",
   "execution_count": 51,
   "id": "9a692a74-3613-4ab8-8f57-d9e66d9847a3",
   "metadata": {},
   "outputs": [],
   "source": [
    "gelu = nn.GELU()"
   ]
  },
  {
   "cell_type": "code",
   "execution_count": 52,
   "id": "54963bd7-a9b8-4930-85bc-37cde16465d0",
   "metadata": {},
   "outputs": [],
   "source": [
    "x = torch.arange(-3, 3, 0.01)"
   ]
  },
  {
   "cell_type": "code",
   "execution_count": 53,
   "id": "ba2b6d3b-4aed-4c23-bdc4-24877eeb841d",
   "metadata": {},
   "outputs": [],
   "source": [
    "x_gelu = gelu(x)"
   ]
  },
  {
   "cell_type": "code",
   "execution_count": 54,
   "id": "3bb65079-2194-49ce-9c4b-6f96980aa565",
   "metadata": {},
   "outputs": [
    {
     "data": {
      "image/png": "[encoded data removed]",
      "text/plain": [
       "<Figure size 640x480 with 1 Axes>"
      ]
     },
     "metadata": {},
     "output_type": "display_data"
    }
   ],
   "source": [
    "plt.plot(x, x_gelu);"
   ]
  },
  {
   "cell_type": "markdown",
   "id": "ce0d28fb-9669-4614-ba97-4571a7382b44",
   "metadata": {},
   "source": [
    "### Umieszczanie warstw po sobie (nn.Sequential)"
   ]
  },
  {
   "cell_type": "code",
   "execution_count": 55,
   "id": "5ee2d636-d236-458f-b7b4-49e9a8eb888a",
   "metadata": {},
   "outputs": [],
   "source": [
    "modules = nn.Sequential(nn.Linear(2, 3), nn.Linear(3, 4))"
   ]
  },
  {
   "cell_type": "code",
   "execution_count": 56,
   "id": "ca80b129-ca6f-4ba2-86ae-116efdf33e79",
   "metadata": {},
   "outputs": [
    {
     "data": {
      "text/plain": [
       "tensor([[-0.34,  1.53],\n",
       "        [ 0.19,  0.85]])"
      ]
     },
     "execution_count": 56,
     "metadata": {},
     "output_type": "execute_result"
    }
   ],
   "source": [
    "x = torch.randn(2, 2)\n",
    "x"
   ]
  },
  {
   "cell_type": "code",
   "execution_count": 57,
   "id": "544fa538-c198-4d1e-b8d8-884a6e1d6980",
   "metadata": {},
   "outputs": [
    {
     "data": {
      "text/plain": [
       "tensor([[-0.30,  0.03, -0.32, -0.51],\n",
       "        [ 0.03, -0.13, -0.11, -0.11]], grad_fn=<AddmmBackward0>)"
      ]
     },
     "execution_count": 57,
     "metadata": {},
     "output_type": "execute_result"
    }
   ],
   "source": [
    "modules(x)"
   ]
  },
  {
   "cell_type": "markdown",
   "id": "2b2c21ee-0069-4276-a8e0-8988420ffb8b",
   "metadata": {},
   "source": [
    "### Layer Norm"
   ]
  },
  {
   "cell_type": "markdown",
   "id": "2efd2f13-2002-42b4-ae9f-26bc7fab7878",
   "metadata": {},
   "source": [
    "\n",
    "`nn.LayerNorm(d_model)` normalizuje dane wejściowe wzdłuż ostatniego wymiaru. Dla wektora wejściowego $ x_i \\in \\mathbb{R}^{d_{\\text{model}}}$, wyjście LayerNorm jest obliczane jako:\n",
    "\n",
    "$$\\text{LayerNorm}(x_i) = \\gamma \\cdot \\frac{x_i - \\mu_i}{\\sqrt{\\sigma_i^2 + \\varepsilon}} + \\beta$$\n",
    "\n",
    "Gdzie:\n",
    "\n",
    "- $\\mu_i = \\frac{1}{d_{\\text{model}}} \\sum_{j=1}^{d_{\\text{model}}} x_{ij}$ to średnia\n",
    "- $\\sigma_i^2 = \\frac{1}{d_{\\text{model}}} \\sum_{j=1}^{d_{\\text{model}}} (x_{ij} - \\mu_i)^2$ to wariancja \n",
    "- $\\varepsilon$ to mała stała zapewniająca stabilność numeryczną\n",
    "- $\\gamma$ i $\\beta$ to parametry uczące się (domyślnie: $\\gamma = 1$, $\\beta = 0$)\n",
    "\n",
    "W rezultacie, po zastosowaniu LayerNorm, każdy wektor $x_i$ będzie miał w przybliżeniu średnią zero i wariancję jednostkową."
   ]
  },
  {
   "cell_type": "code",
   "execution_count": 58,
   "id": "5f62db9b-4009-4b3e-b27b-812545c942c2",
   "metadata": {},
   "outputs": [],
   "source": [
    "# layer norm na slajdy\n",
    "ln = nn.LayerNorm(d_model)"
   ]
  },
  {
   "cell_type": "code",
   "execution_count": 59,
   "id": "b48682b4-672d-4ff9-978b-700ab953b245",
   "metadata": {},
   "outputs": [
    {
     "data": {
      "text/plain": [
       "tensor([[ 0.27, -0.03,  0.15,  0.05],\n",
       "        [ 0.34, -1.46, -1.36, -0.48]])"
      ]
     },
     "execution_count": 59,
     "metadata": {},
     "output_type": "execute_result"
    }
   ],
   "source": [
    "x = torch.randn(2, d_model)\n",
    "x"
   ]
  },
  {
   "cell_type": "code",
   "execution_count": 60,
   "id": "8369c4ab-4cc8-4417-b09e-0e01a9ebdb5c",
   "metadata": {},
   "outputs": [
    {
     "data": {
      "text/plain": [
       "tensor([[ 1.42, -1.25,  0.36, -0.53],\n",
       "        [ 1.48, -0.98, -0.85,  0.36]], grad_fn=<NativeLayerNormBackward0>)"
      ]
     },
     "execution_count": 60,
     "metadata": {},
     "output_type": "execute_result"
    }
   ],
   "source": [
    "x_ln = ln(x)\n",
    "x_ln"
   ]
  },
  {
   "cell_type": "code",
   "execution_count": 61,
   "id": "cc6c32c1-d987-49eb-b962-f998902a8533",
   "metadata": {},
   "outputs": [
    {
     "data": {
      "text/plain": [
       "tensor([    0.00,     0.00], grad_fn=<SumBackward1>)"
      ]
     },
     "execution_count": 61,
     "metadata": {},
     "output_type": "execute_result"
    }
   ],
   "source": [
    "x_ln.sum(axis=1)"
   ]
  },
  {
   "cell_type": "code",
   "execution_count": 62,
   "id": "18f45031-0e7a-40ab-90a8-624d47d185fe",
   "metadata": {},
   "outputs": [
    {
     "data": {
      "text/plain": [
       "tensor([1.00, 1.00], grad_fn=<VarBackward0>)"
      ]
     },
     "execution_count": 62,
     "metadata": {},
     "output_type": "execute_result"
    }
   ],
   "source": [
    "x_ln.var(axis=1, unbiased=False)"
   ]
  },
  {
   "cell_type": "code",
   "execution_count": 63,
   "id": "37c44cab-f9d7-4464-97fa-b509dc789adc",
   "metadata": {},
   "outputs": [
    {
     "data": {
      "text/plain": [
       "Parameter containing:\n",
       "tensor([1., 1., 1., 1.], requires_grad=True)"
      ]
     },
     "execution_count": 63,
     "metadata": {},
     "output_type": "execute_result"
    }
   ],
   "source": [
    "# gamma\n",
    "ln.weight"
   ]
  },
  {
   "cell_type": "code",
   "execution_count": 64,
   "id": "a8dab69b-2de5-4f1f-9c34-b7aa2ac72740",
   "metadata": {},
   "outputs": [
    {
     "data": {
      "text/plain": [
       "Parameter containing:\n",
       "tensor([0., 0., 0., 0.], requires_grad=True)"
      ]
     },
     "execution_count": 64,
     "metadata": {},
     "output_type": "execute_result"
    }
   ],
   "source": [
    "# beta\n",
    "ln.bias"
   ]
  },
  {
   "cell_type": "code",
   "execution_count": null,
   "id": "8412ea0d-32c4-45b3-bf46-ce60804efb47",
   "metadata": {},
   "outputs": [],
   "source": []
  }
 ],
 "metadata": {
  "kernelspec": {
   "display_name": "dydaktyka_LLM",
   "language": "python",
   "name": "dydaktyka_llm"
  },
  "language_info": {
   "codemirror_mode": {
    "name": "ipython",
    "version": 3
   },
   "file_extension": ".py",
   "mimetype": "text/x-python",
   "name": "python",
   "nbconvert_exporter": "python",
   "pygments_lexer": "ipython3",
   "version": "3.12.3"
  }
 },
 "nbformat": 4,
 "nbformat_minor": 5
}
