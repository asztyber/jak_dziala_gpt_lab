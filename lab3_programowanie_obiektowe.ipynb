{
 "cells": [
  {
   "cell_type": "markdown",
   "id": "7e5edd84-ce1f-477d-99cc-c3ac4639fc47",
   "metadata": {},
   "source": [
    "## LAB 3 Jak działa GPT\n",
    "### Programowanie obiektowe Python\n",
    "\n",
    "Celem laboratorium jest:\n",
    "* ćwiczenie umiejętności programowania obiektowego w Pythonie\n",
    "* ćwiczenie umiejętności przetwarzania tekstu (zamiana znaków na tokeny)"
   ]
  },
  {
   "cell_type": "markdown",
   "id": "17a5330f-312e-4975-9000-e003a62b5be2",
   "metadata": {},
   "source": [
    "Imię i nazwisko: PROSZĘ TU WPISAĆ!\n",
    "\n",
    "\n",
    "Punktacja:\n",
    "* Zad 1: 2 pkt.\n",
    "* Zad 2: 2 pkt.\n",
    "\n",
    "Punkty będą zerowane w przypadku stwierdzenia braku samodzielności pracy lub braku zrozumienia przesłanych rozwiązań."
   ]
  },
  {
   "cell_type": "markdown",
   "id": "1db4aee8-cd13-41dd-ad34-134859f70292",
   "metadata": {},
   "source": [
    "#### Zadanie 1\n",
    "Uwaga: można nazwyać zmienne po angielsku, absolutnie nie można używać polskich znaków!\n",
    "* Zaimplementować klasę Zwierze, każde zwierzę ma pole imię oraz metodę wydaj dźwięk, która drukuje jakiś dźwięk\n",
    "* Zaimplementować klasę Pies, która dziedziczy po klasie Zwierze oraz dodatkowo ma pole rasa. Nadpisać metodę wydaj dźwięk, żeby drukowała \"Hau hau\"\n",
    "* Zdefiniować obiekt klasy Zwierze i obiekt klasy Pies, wywołać dla obu metodę wydaj dzwięk. Wypisać wartości wszystkich pól obu obiektów."
   ]
  },
  {
   "cell_type": "code",
   "execution_count": null,
   "id": "0010f961-7aa5-4680-8f14-41948aca5f15",
   "metadata": {},
   "outputs": [],
   "source": []
  },
  {
   "cell_type": "markdown",
   "id": "dfb63a5f-43a8-4284-9110-ade4756db5e8",
   "metadata": {},
   "source": [
    "#### Zadanie 2\n",
    "Zaimplementować klasę Koder do zamiany znaków na tokeny i odwrotnie.\n",
    "\n",
    "Koder powinien mieć pola:\n",
    "* słownik znaków i odpowiadających im liczb (tokenów)\n",
    "* słownik tokenów (liczb) i odpowiadających im znaków\n",
    "* liczba tokenów\n",
    "\n",
    "Koder powinien mieć metody:\n",
    "* trenuj - wyznaczenie słowników na podstawie podanego tekstu\n",
    "* koduj - zamiana tekstu (str) na listę tokenów\n",
    "* dekoduj - zamiana listy tokenów na tekst\n",
    "\n",
    "W konstruktorze zainicjalizować słowniki pustymi wartościami (None).\n",
    "\n",
    "Wskazówka: nieobiektowa implementacja była w lab 2.\n",
    "\n",
    "Utworzyć obiekt klasy koder i zaprezentować prawidłowe działanie.\n",
    "* Wytrenować na przykładowym tekście\n",
    "* Wyświetlić wartości wszystkich pól\n",
    "* Zakodować i zdekodować przykładowy tekst"
   ]
  },
  {
   "cell_type": "code",
   "execution_count": null,
   "id": "37170c88-6e9d-46a2-bb62-e6ec4a279902",
   "metadata": {},
   "outputs": [],
   "source": []
  }
 ],
 "metadata": {
  "kernelspec": {
   "display_name": "dydaktyka_LLM",
   "language": "python",
   "name": "dydaktyka_llm"
  },
  "language_info": {
   "codemirror_mode": {
    "name": "ipython",
    "version": 3
   },
   "file_extension": ".py",
   "mimetype": "text/x-python",
   "name": "python",
   "nbconvert_exporter": "python",
   "pygments_lexer": "ipython3",
   "version": "3.12.3"
  }
 },
 "nbformat": 4,
 "nbformat_minor": 5
}
