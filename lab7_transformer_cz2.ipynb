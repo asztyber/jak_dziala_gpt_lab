{
 "cells": [
  {
   "cell_type": "markdown",
   "id": "e50a4c4a-4063-4e81-9275-fe326591175b",
   "metadata": {},
   "source": [
    "### Laboratorium 7 Jak działa GPT?\n",
    "#### Implemetacja transformera część 2\n",
    "\n",
    "Imię i nazwisko: ...................\n",
    "\n",
    "Punktacja:\n",
    "* 6 pkt. prawidłowa implementacja \n",
    "* 2 pkt. wnioski\n",
    "\n",
    "Rozszerzymy implementację z poprzedniego laboratorium o:\n",
    "* kodowanie pozycyjne\n",
    "* warstwę MLP za atencją (co razem daje blok transformera)\n",
    "* wiele bloków transformera\n",
    "* strumień resztowy (residual stream)\n",
    "* normalizację LayerNorm"
   ]
  },
  {
   "cell_type": "markdown",
   "id": "f9418073-0cfe-4f4b-9536-643d45e69784",
   "metadata": {},
   "source": [
    "#### Źródła\n",
    "* https://youtu.be/kCc8FmEb1nY?si=wYbFi5JB3x-R8375\n",
    "* https://github.com/karpathy/nanoGPT\n",
    "* https://arena3-chapter1-transformer-interp.streamlit.app/[1.1]_Transformer_from_Scratch"
   ]
  },
  {
   "cell_type": "code",
   "execution_count": 2,
   "id": "6da88d5f-9e38-4be9-8959-0b44ec6a179e",
   "metadata": {},
   "outputs": [],
   "source": [
    "import requests\n",
    "import torch\n",
    "import matplotlib.pyplot as plt\n",
    "from collections import Counter\n",
    "import numpy as np\n",
    "from torch import nn, optim\n",
    "import torch.nn.functional as F\n",
    "import random"
   ]
  },
  {
   "cell_type": "code",
   "execution_count": 3,
   "id": "550a7068-c900-43a1-8a36-31fb08fd2a33",
   "metadata": {},
   "outputs": [],
   "source": [
    "device = 'cuda' if torch.cuda.is_available() else 'cpu'"
   ]
  },
  {
   "cell_type": "markdown",
   "id": "bd7f33ff-5d83-4a24-bf24-48f382b5ecd6",
   "metadata": {},
   "source": [
    "#### Przygotowanie danych uczących\n",
    "* to samo co do tej pory"
   ]
  },
  {
   "cell_type": "code",
   "execution_count": 4,
   "id": "b906b538-46d3-45a7-88f6-7e96d3cff217",
   "metadata": {},
   "outputs": [],
   "source": [
    "# jako tekst ponownie wykorzystamy HPMOR rozdziały 1-10\n",
    "# Eliezer Yudkowsky, Harry Potter and the Methods of Rationality https://hpmor.com/\n",
    "url = \"https://github.com/asztyber/jak_dziala_gpt_lab/blob/main/data/hpmor_chapters_1-10.txt?raw=true\"\n",
    "response = requests.get(url)\n",
    "text = response.text"
   ]
  },
  {
   "cell_type": "code",
   "execution_count": 5,
   "id": "82951980-6ae4-4486-8549-e84d929ca6ef",
   "metadata": {},
   "outputs": [
    {
     "data": {
      "text/plain": [
       "255326"
      ]
     },
     "execution_count": 5,
     "metadata": {},
     "output_type": "execute_result"
    }
   ],
   "source": [
    "len(text)"
   ]
  },
  {
   "cell_type": "code",
   "execution_count": 6,
   "id": "78419332-d6a0-48ac-967d-3a607e2ed2cf",
   "metadata": {},
   "outputs": [],
   "source": [
    "characters = sorted(set(text))\n",
    "vocab_size = len(characters)\n",
    "idx_to_ch = {i: c for i, c in enumerate(characters)}\n",
    "ch_to_idx = {c: i for i, c in enumerate(characters)}"
   ]
  },
  {
   "cell_type": "code",
   "execution_count": 7,
   "id": "b6833c1e-80cc-48b9-b130-dd3b68ffaba5",
   "metadata": {},
   "outputs": [
    {
     "name": "stdout",
     "output_type": "stream",
     "text": [
      "79\n"
     ]
    }
   ],
   "source": [
    "print(vocab_size)"
   ]
  },
  {
   "cell_type": "code",
   "execution_count": 8,
   "id": "1ce2385f-bca7-4f5e-99fb-ee57cc84bc10",
   "metadata": {},
   "outputs": [],
   "source": [
    "def code(text):\n",
    "    return [ch_to_idx[c] for c in text]\n",
    "\n",
    "def decode(tokens):\n",
    "    return ''.join(idx_to_ch[i] for i in tokens)"
   ]
  },
  {
   "cell_type": "code",
   "execution_count": 9,
   "id": "b3dacb3f-14d8-484d-a6de-3422ed029c87",
   "metadata": {},
   "outputs": [],
   "source": [
    "text_coded = code(text)\n",
    "# tensor zawierający dane uczące\n",
    "train = torch.tensor(text_coded)"
   ]
  },
  {
   "cell_type": "code",
   "execution_count": 11,
   "id": "87a4423b-8847-4791-9794-ea37619a838e",
   "metadata": {},
   "outputs": [],
   "source": [
    "def get_batch(data, seq_len=8, batch_size=4):\n",
    "    '''\n",
    "    Funkcja zwraca batch danych.\n",
    "    data (tensor) - dane uczące\n",
    "    seq_len (int) - długość sekwencji\n",
    "    batch_size (int) - rozmiar batcha\n",
    "\n",
    "    X - tensor o kształcie (batch_size, seq_len)\n",
    "    y - tensor o kształcie (batch_size, seq_len)\n",
    "    '''\n",
    "    n = len(data)\n",
    "    starts = np.random.randint(0, n - seq_len, batch_size)\n",
    "    X = torch.stack([data[s:s + seq_len] for s in starts])\n",
    "    y = torch.stack([data[s + 1: s + seq_len + 1] for s in starts])\n",
    "    return X.to(device), y.to(device)"
   ]
  },
  {
   "cell_type": "markdown",
   "id": "d8ac8c47-23d7-432d-84f0-26b26f3dc419",
   "metadata": {},
   "source": [
    "#### Generacja tekstu"
   ]
  },
  {
   "cell_type": "code",
   "execution_count": 12,
   "id": "a0269815-f673-445c-a7fc-032f389072d1",
   "metadata": {},
   "outputs": [],
   "source": [
    "def generate_text(start_seq, model, max_size, seq_len):\n",
    "    '''\n",
    "    Funkcja generuje tekst.\n",
    "    start_seq (str) - początek tekstu, podany przez użytkownika\n",
    "    model - sieć neuronowa\n",
    "    max_size (int) - zadana długość tekstu\n",
    "    seq_len (int) - długość sekwencji podawanej na wejście modelu\n",
    "    '''\n",
    "    for i in range(max_size):\n",
    "        x = code(start_seq[-seq_len:]) #<- zmiana\n",
    "        logits = model(torch.tensor([x], device=device)) #<- zmiana []\n",
    "        probs = F.softmax(logits, dim=-1) #<- zmiana dim=-1\n",
    "        probs = probs[0, -1, :].cpu().detach().numpy() # <- zmiana\n",
    "        next_ch = idx_to_ch[np.random.choice(vocab_size, p=probs)]\n",
    "        start_seq += next_ch\n",
    "    return start_seq"
   ]
  },
  {
   "cell_type": "code",
   "execution_count": 21,
   "id": "963e9da9",
   "metadata": {},
   "outputs": [],
   "source": [
    "def train_loop(model, optimizer, n_steps, batch_size, seq_len, vocab_size):\n",
    "    losses = []\n",
    "    for step in range(n_steps):\n",
    "        optimizer.zero_grad()\n",
    "        x, y = get_batch(train, batch_size=batch_size)\n",
    "        logits = model(x)\n",
    "        loss = #TODO (uzupełnić z zeszłego tygodnia)\n",
    "        loss.backward()\n",
    "        optimizer.step()\n",
    "        losses.append(loss.item())\n",
    "    \n",
    "        if step % 100 == 0:\n",
    "            print(f\"Krok {step}: Loss = {loss.item():.4f}\")\n",
    "    return losses"
   ]
  },
  {
   "cell_type": "markdown",
   "id": "8dcfd110",
   "metadata": {},
   "source": [
    "### Potrzebne modele z zeszłego tygodnia\n",
    "* proszę skopiować implementację AttentionHead i MultiHeadAttention"
   ]
  },
  {
   "cell_type": "code",
   "execution_count": 15,
   "id": "74ad4f12",
   "metadata": {},
   "outputs": [],
   "source": [
    "class AttentionHead(nn.Module):\n",
    "    # TODO"
   ]
  },
  {
   "cell_type": "code",
   "execution_count": 16,
   "id": "9557f01e",
   "metadata": {},
   "outputs": [],
   "source": [
    "class MultiHeadAttention(nn.Module):\n",
    "    # TODO"
   ]
  },
  {
   "cell_type": "markdown",
   "id": "23f15abb-c66d-448e-98e1-64d0423f6959",
   "metadata": {},
   "source": [
    "### Kodowanie pozycyjne (Positional embedding)\n",
    "\n",
    "* uwaga: na wejściu tej warstwy nie ma tokenów, tylko ich numery kolejne\n",
    "\n",
    "<img src=\"../../pic/positional_embedding.png\" alt=\"Atencja o wielu głowach\" width=\"500\">"
   ]
  },
  {
   "cell_type": "markdown",
   "id": "365bbec3",
   "metadata": {},
   "source": [
    "### Uzupełnić model o kodowanie pozycyjne\n",
    "* dodać warstwę kodowania pozycyjnego typu nn.Embedding o wymiarach (*seq_len*, *d_model*)\n",
    "* kodowanie pozycyjne **dodajemy** do wyniku warstwy emb\n",
    "* na wejściu warstwy kodowania pozycyjnego podajemy numery kolejne sekwencji tokenów (np. [[0, 1, 2, 3, 4, 5, 6, 7]])\n",
    "* tensor na wejściu ma kształt (*1*, *seq_len*)\n",
    "* proszę pamiętać o przeniesieniu tensora wejściowego do warstwy pos_emb na urządzenie device\n"
   ]
  },
  {
   "cell_type": "code",
   "execution_count": 18,
   "id": "07599f62-88f9-4a39-a3a1-9ff77f7f5703",
   "metadata": {},
   "outputs": [],
   "source": [
    "class MultiHeadModelwithPositionalEmbedding(nn.Module):\n",
    "    def __init__(self, n_heads, vocab_size, d_head, d_model, seq_len):\n",
    "        super().__init__()\n",
    "        self.emb = nn.Embedding(vocab_size, d_model) \n",
    "        self.pos_emb =  #TODO\n",
    "        self.multi_head_attention = MultiHeadAttention(n_heads, d_head, d_model)\n",
    "        self.linear_out = nn.Linear(d_model, vocab_size)\n",
    "\n",
    "    def forward(self, X):\n",
    "        _, seq_len = X.shape # sprawdzamy długość sekwencji w danych wejściowych (model może działać na danych krótszych niż seq_len)\n",
    "        positional_embedding = #TODO\n",
    "        x = #TODO\n",
    "        out = self.multi_head_attention(x)\n",
    "        logits = self.linear_out(out)\n",
    "        return logits"
   ]
  },
  {
   "cell_type": "code",
   "execution_count": 19,
   "id": "15c7e667-43fd-4e2b-ae7c-6e26235fab93",
   "metadata": {},
   "outputs": [],
   "source": [
    "batch_size = 256\n",
    "seq_len = 8\n",
    "d_model = 16\n",
    "d_head = 4\n",
    "n_heads = 4\n",
    "n_steps = 2000\n",
    "model = MultiHeadModelwithPositionalEmbedding(n_heads, vocab_size, d_head, d_model, seq_len).to(device)\n",
    "optimizer = torch.optim.SGD(model.parameters(), lr=0.5)"
   ]
  },
  {
   "cell_type": "code",
   "execution_count": 20,
   "id": "b7aa9ba8-bc2d-4723-a872-7ae07906ea2b",
   "metadata": {},
   "outputs": [
    {
     "name": "stdout",
     "output_type": "stream",
     "text": [
      "Liczba parametrów modelu: 3759\n"
     ]
    }
   ],
   "source": [
    "total_params = sum(p.numel() for p in model.parameters())\n",
    "print(f'Liczba parametrów modelu: {total_params}')"
   ]
  },
  {
   "cell_type": "code",
   "execution_count": 22,
   "id": "076b24fc-1ae4-4e30-b78a-ab142960d727",
   "metadata": {},
   "outputs": [
    {
     "name": "stdout",
     "output_type": "stream",
     "text": [
      "Krok 0: Loss = 4.4585\n",
      "Krok 100: Loss = 2.9498\n",
      "Krok 200: Loss = 2.8301\n",
      "Krok 300: Loss = 2.6732\n",
      "Krok 400: Loss = 2.6031\n",
      "Krok 500: Loss = 2.5596\n",
      "Krok 600: Loss = 2.5466\n",
      "Krok 700: Loss = 2.5687\n",
      "Krok 800: Loss = 2.4967\n",
      "Krok 900: Loss = 2.5036\n",
      "Krok 1000: Loss = 2.4813\n",
      "Krok 1100: Loss = 2.4711\n",
      "Krok 1200: Loss = 2.4297\n",
      "Krok 1300: Loss = 2.4223\n",
      "Krok 1400: Loss = 2.4563\n",
      "Krok 1500: Loss = 2.4055\n",
      "Krok 1600: Loss = 2.4204\n",
      "Krok 1700: Loss = 2.4084\n",
      "Krok 1800: Loss = 2.4228\n",
      "Krok 1900: Loss = 2.3284\n"
     ]
    }
   ],
   "source": [
    "losses = train_loop(model, optimizer, n_steps, batch_size, seq_len, vocab_size)"
   ]
  },
  {
   "cell_type": "code",
   "execution_count": 23,
   "id": "474de3b9-db8d-4411-82ab-0f02116bfb4d",
   "metadata": {},
   "outputs": [
    {
     "data": {
      "text/plain": [
       "'Thes\\nfoush rentgess thonfle Aa thae boionkd besg wominde\\ndoullkoud, busl whe dor the hive irsrer assm'"
      ]
     },
     "execution_count": 23,
     "metadata": {},
     "output_type": "execute_result"
    }
   ],
   "source": [
    "generate_text('T', model, 100, seq_len)"
   ]
  },
  {
   "cell_type": "code",
   "execution_count": 24,
   "id": "897978d6-2bc7-4fa0-b29e-d44e1088de9f",
   "metadata": {},
   "outputs": [
    {
     "data": {
      "image/png": "[encoded data removed]",
      "text/plain": [
       "<Figure size 640x480 with 1 Axes>"
      ]
     },
     "metadata": {},
     "output_type": "display_data"
    }
   ],
   "source": [
    "plt.plot(losses);"
   ]
  },
  {
   "cell_type": "markdown",
   "id": "996b1ec5-61e6-47e2-a829-a6b8ec9f3fb6",
   "metadata": {},
   "source": [
    "### Transformer\n",
    "* tworzymy **TransformerBlock** dodając za atencją:\n",
    "    * warstwę liniową *d_model* x 4*d_model*\n",
    "    * funkcję aktywacji GELU\n",
    "    * warstwę liniową 4*d_model* x *d_model*\n",
    "\n",
    "<img src=\"../../pic/transformer_block.png\" alt=\"Transformer\" width=\"400\">"
   ]
  },
  {
   "cell_type": "markdown",
   "id": "451e6f20",
   "metadata": {},
   "source": [
    "### Zaimplementować klasę MLPBlock\n",
    "* warstwa liniowa *d_model* x 4*d_model*\n",
    "* funkcja aktywacji GELU\n",
    "* warstwa liniowa 4*d_model* x *d_model*\n"
   ]
  },
  {
   "cell_type": "code",
   "execution_count": 26,
   "id": "f015e61a",
   "metadata": {},
   "outputs": [],
   "source": [
    "class MLPBlock(nn.Module):\n",
    "    def __init__(self, d_model):\n",
    "        super().__init__()\n",
    "        self.linear1 = #TODO\n",
    "        self.gelu = #TODO\n",
    "        self.linear2 = #TODO\n",
    "\n",
    "    def forward(self, x):\n",
    "        #TODO\n",
    "        return x "
   ]
  },
  {
   "cell_type": "markdown",
   "id": "dd016a88",
   "metadata": {},
   "source": [
    "### Zaimplementować klasę TransformerBlock\n",
    "* warstwa MultiHeadAttention\n",
    "* warstwa MLPBlock"
   ]
  },
  {
   "cell_type": "code",
   "execution_count": 27,
   "id": "5f580179",
   "metadata": {},
   "outputs": [],
   "source": [
    "class TransformerBlock(nn.Module):\n",
    "    def __init__(self, n_heads, d_head, d_model):\n",
    "        super().__init__()\n",
    "        self.multi_head_attention = #TODO\n",
    "        self.mlp = #TODO\n",
    "\n",
    "    def forward(self, x):\n",
    "        #TODO\n",
    "        return x"
   ]
  },
  {
   "cell_type": "markdown",
   "id": "137b036d",
   "metadata": {},
   "source": [
    "### Zaimplementować model z jedną warstwą TransformerBlock - TransformerOneLayerModel\n",
    "* warstwa embedding\n",
    "* warstwa kodowania pozycyjnego\n",
    "* warstwa liniowa *d_model* x *vocab_size*\n",
    "* warstwa TransformerBlock\n",
    "* **jedyna różnica w porównaniu do MultiHeadModelwithPositionalEmbedding to zamiana MultiHeadAttention przez TransformerBlock**\n"
   ]
  },
  {
   "cell_type": "code",
   "execution_count": 28,
   "id": "6b125688-885f-4b6a-8038-2225194050c0",
   "metadata": {},
   "outputs": [],
   "source": [
    "\n",
    "class TransformerOneLayerModel(nn.Module):\n",
    "    def __init__(self, n_heads, vocab_size, d_head, d_model, seq_len):\n",
    "        super().__init__()\n",
    "        self.emb = nn.Embedding(vocab_size, d_model) \n",
    "        self.pos_emb = #TODO\n",
    "        self.transformer_block =  #TODO\n",
    "        self.linear_out = nn.Linear(d_model, vocab_size) \n",
    "\n",
    "    def forward(self, X):\n",
    "        _, seq_len = X.shape\n",
    "        x = #TODO\n",
    "        out = #TODO\n",
    "        logits = self.linear_out(out)\n",
    "        return logits"
   ]
  },
  {
   "cell_type": "code",
   "execution_count": 29,
   "id": "77c65070-e0d5-4cf9-b0c0-5c149a8627d0",
   "metadata": {},
   "outputs": [],
   "source": [
    "batch_size = 256\n",
    "seq_len = 8\n",
    "d_model = 16\n",
    "d_head = 4\n",
    "n_heads = 4\n",
    "n_steps = 2000\n",
    "model = TransformerOneLayerModel(n_heads, vocab_size, d_head, d_model, seq_len).to(device)\n",
    "optimizer = torch.optim.SGD(model.parameters(), lr=0.5)"
   ]
  },
  {
   "cell_type": "code",
   "execution_count": 30,
   "id": "179ffef6-aee3-4711-af0f-66982ee14077",
   "metadata": {},
   "outputs": [
    {
     "name": "stdout",
     "output_type": "stream",
     "text": [
      "Liczba parametrów modelu: 5887\n"
     ]
    }
   ],
   "source": [
    "total_params = sum(p.numel() for p in model.parameters())\n",
    "print(f'Liczba parametrów modelu: {total_params}')"
   ]
  },
  {
   "cell_type": "code",
   "execution_count": 31,
   "id": "9a3ec161-c1ef-44ee-8ccc-ee5aadda0228",
   "metadata": {},
   "outputs": [
    {
     "name": "stdout",
     "output_type": "stream",
     "text": [
      "Krok 0: Loss = 4.3984\n",
      "Krok 100: Loss = 3.0965\n",
      "Krok 200: Loss = 2.8782\n",
      "Krok 300: Loss = 2.7810\n",
      "Krok 400: Loss = 2.7252\n",
      "Krok 500: Loss = 2.5413\n",
      "Krok 600: Loss = 2.4927\n",
      "Krok 700: Loss = 2.4563\n",
      "Krok 800: Loss = 2.4377\n",
      "Krok 900: Loss = 2.3293\n",
      "Krok 1000: Loss = 2.3850\n",
      "Krok 1100: Loss = 2.3559\n",
      "Krok 1200: Loss = 2.3379\n",
      "Krok 1300: Loss = 2.2841\n",
      "Krok 1400: Loss = 2.2834\n",
      "Krok 1500: Loss = 2.3342\n",
      "Krok 1600: Loss = 2.2693\n",
      "Krok 1700: Loss = 2.2286\n",
      "Krok 1800: Loss = 2.2931\n",
      "Krok 1900: Loss = 2.2132\n"
     ]
    }
   ],
   "source": [
    "losses = train_loop(model, optimizer, n_steps, batch_size, seq_len, vocab_size)"
   ]
  },
  {
   "cell_type": "code",
   "execution_count": 32,
   "id": "422230aa-2bb9-4ec9-a9f8-ae58496a1895",
   "metadata": {},
   "outputs": [
    {
     "data": {
      "text/plain": [
       "\"That yin. I he to Dain fchat fan known't giment allof saw sHard junge to the aphectt do ovestt cos wo\""
      ]
     },
     "execution_count": 32,
     "metadata": {},
     "output_type": "execute_result"
    }
   ],
   "source": [
    "generate_text('T', model, 100, seq_len)"
   ]
  },
  {
   "cell_type": "code",
   "execution_count": 33,
   "id": "6de69942-d661-4c06-8719-3f3fedfe28a2",
   "metadata": {},
   "outputs": [
    {
     "data": {
      "image/png": "[encoded data removed]",
      "text/plain": [
       "<Figure size 640x480 with 1 Axes>"
      ]
     },
     "metadata": {},
     "output_type": "display_data"
    }
   ],
   "source": [
    "plt.plot(losses);"
   ]
  },
  {
   "cell_type": "markdown",
   "id": "0b0be24e-43cf-40c6-980d-6891176dd458",
   "metadata": {},
   "source": [
    "### Wiele warstw - zaimplementować model TransformerModel\n",
    "* dodać 3 warstwy TransformerBlock po sobie\n",
    "* wykorzystać nn.Sequential"
   ]
  },
  {
   "cell_type": "code",
   "execution_count": 34,
   "id": "f9f1942a-0375-4612-8049-08786befe187",
   "metadata": {},
   "outputs": [],
   "source": [
    "# transformer blocks zamiast transformer block\n",
    "class TransformerModel(nn.Module):\n",
    "    def __init__(self, n_heads, vocab_size, d_head, d_model, seq_len):\n",
    "        super().__init__()\n",
    "        self.emb = nn.Embedding(vocab_size, d_model) \n",
    "        self.pos_emb = #TODO\n",
    "        self.transformer_blocks = #TODO\n",
    "        self.linear_out = nn.Linear(d_model, vocab_size)\n",
    "\n",
    "    def forward(self, X):\n",
    "        _, seq_len = X.shape\n",
    "        x = #TODO\n",
    "        out = #TODO\n",
    "        logits = self.linear_out(out)\n",
    "        return logits"
   ]
  },
  {
   "cell_type": "code",
   "execution_count": 35,
   "id": "5a8cf679-083f-4126-94cb-25b7c07b1d85",
   "metadata": {},
   "outputs": [],
   "source": [
    "batch_size = 256\n",
    "seq_len = 8\n",
    "d_model = 16\n",
    "d_head = 4\n",
    "n_heads = 4\n",
    "n_steps = 2000\n",
    "model = TransformerModel(n_heads, vocab_size, d_head, d_model, seq_len).to(device)\n",
    "optimizer = torch.optim.AdamW(model.parameters(), lr=0.01)"
   ]
  },
  {
   "cell_type": "code",
   "execution_count": 36,
   "id": "a04cc0c5-59dd-49e0-8021-9cfefcd10166",
   "metadata": {},
   "outputs": [
    {
     "name": "stdout",
     "output_type": "stream",
     "text": [
      "Liczba parametrów modelu: 12191\n"
     ]
    }
   ],
   "source": [
    "total_params = sum(p.numel() for p in model.parameters())\n",
    "print(f'Liczba parametrów modelu: {total_params}')"
   ]
  },
  {
   "cell_type": "code",
   "execution_count": 37,
   "id": "dd6ef87a-799c-4228-8603-1dde4b4ceab5",
   "metadata": {},
   "outputs": [
    {
     "name": "stdout",
     "output_type": "stream",
     "text": [
      "Krok 0: Loss = 4.3891\n",
      "Krok 100: Loss = 3.0232\n",
      "Krok 200: Loss = 2.9524\n",
      "Krok 300: Loss = 2.7424\n",
      "Krok 400: Loss = 2.5305\n",
      "Krok 500: Loss = 2.4755\n",
      "Krok 600: Loss = 2.3793\n",
      "Krok 700: Loss = 2.3056\n",
      "Krok 800: Loss = 2.2896\n",
      "Krok 900: Loss = 2.3208\n",
      "Krok 1000: Loss = 2.2141\n",
      "Krok 1100: Loss = 2.1888\n",
      "Krok 1200: Loss = 2.2100\n",
      "Krok 1300: Loss = 2.2084\n",
      "Krok 1400: Loss = 2.1004\n",
      "Krok 1500: Loss = 2.1177\n",
      "Krok 1600: Loss = 2.1024\n",
      "Krok 1700: Loss = 2.1441\n",
      "Krok 1800: Loss = 2.0492\n",
      "Krok 1900: Loss = 2.1335\n"
     ]
    }
   ],
   "source": [
    "losses = train_loop(model, optimizer, n_steps, batch_size, seq_len, vocab_size)"
   ]
  },
  {
   "cell_type": "code",
   "execution_count": 38,
   "id": "e8fa46b7-77ee-4432-a315-5d1470ea8541",
   "metadata": {},
   "outputs": [
    {
     "data": {
      "text/plain": [
       "'This or ising likasteded. \"Al pak a luiso he bagce, some betterhten he frid otn bestice her?\"\\nShey se'"
      ]
     },
     "execution_count": 38,
     "metadata": {},
     "output_type": "execute_result"
    }
   ],
   "source": [
    "generate_text('T', model, 100, seq_len)"
   ]
  },
  {
   "cell_type": "code",
   "execution_count": 39,
   "id": "285bc7d8-c5e7-4639-9443-80708a6ed5a8",
   "metadata": {},
   "outputs": [
    {
     "data": {
      "image/png": "[encoded data removed]",
      "text/plain": [
       "<Figure size 640x480 with 1 Axes>"
      ]
     },
     "metadata": {},
     "output_type": "display_data"
    }
   ],
   "source": [
    "plt.plot(losses);"
   ]
  },
  {
   "cell_type": "markdown",
   "id": "ad3f9422-a628-43bc-9a9f-86b32a8a47e3",
   "metadata": {},
   "source": [
    "### Residual stream\n",
    "* zmodyfikować transformer block, tak, żeby zawierał residual stream\n",
    "* $+$ na schemacie oznacza zwykłe dodawanie\n",
    "\n",
    "<img src=\"../../pic/residual_stream.png\" alt=\"Residual stream\" width=\"400\">"
   ]
  },
  {
   "cell_type": "markdown",
   "id": "dd6bec63",
   "metadata": {},
   "source": [
    "#### Zmodyfikować TransformerBlock\n",
    "* dodać residual stream"
   ]
  },
  {
   "cell_type": "code",
   "execution_count": 40,
   "id": "6a3113c2-6a69-49a4-9ee4-3deec8ee939d",
   "metadata": {},
   "outputs": [],
   "source": [
    "class TransformerBlock(nn.Module):\n",
    "    def __init__(self, n_heads, d_head, d_model):\n",
    "        super().__init__()\n",
    "        self.multi_head_attention = #TODO\n",
    "        self.mlp = #TODO\n",
    "        \n",
    "    def forward(self, x):\n",
    "        x = #TODO\n",
    "        x = #TODO\n",
    "        return x"
   ]
  },
  {
   "cell_type": "code",
   "execution_count": 41,
   "id": "166731cb-c621-4d10-aeb9-d8612faca91c",
   "metadata": {},
   "outputs": [],
   "source": [
    "batch_size = 256\n",
    "seq_len = 8\n",
    "d_model = 16\n",
    "d_head = 4\n",
    "n_heads = 4\n",
    "n_steps = 2000\n",
    "model = TransformerModel(n_heads, vocab_size, d_head, d_model, seq_len).to(device)\n",
    "optimizer = torch.optim.AdamW(model.parameters(), lr=0.01)"
   ]
  },
  {
   "cell_type": "code",
   "execution_count": 42,
   "id": "4d4c8a8f-89d9-4ba7-ba65-9ae72e10a32c",
   "metadata": {},
   "outputs": [
    {
     "name": "stdout",
     "output_type": "stream",
     "text": [
      "Krok 0: Loss = 4.9478\n",
      "Krok 100: Loss = 2.4613\n",
      "Krok 200: Loss = 2.2696\n",
      "Krok 300: Loss = 2.1855\n",
      "Krok 400: Loss = 2.0913\n",
      "Krok 500: Loss = 2.0647\n",
      "Krok 600: Loss = 2.0974\n",
      "Krok 700: Loss = 2.0774\n",
      "Krok 800: Loss = 2.0683\n",
      "Krok 900: Loss = 2.0089\n",
      "Krok 1000: Loss = 2.0011\n",
      "Krok 1100: Loss = 1.9841\n",
      "Krok 1200: Loss = 1.9946\n",
      "Krok 1300: Loss = 2.0134\n",
      "Krok 1400: Loss = 1.9144\n",
      "Krok 1500: Loss = 2.0277\n",
      "Krok 1600: Loss = 1.9599\n",
      "Krok 1700: Loss = 2.0054\n",
      "Krok 1800: Loss = 1.9871\n",
      "Krok 1900: Loss = 1.9506\n"
     ]
    }
   ],
   "source": [
    "losses = train_loop(model, optimizer, n_steps, batch_size, seq_len, vocab_size)"
   ]
  },
  {
   "cell_type": "code",
   "execution_count": 43,
   "id": "8886b5c1-d0f5-4988-aa10-b4ba83f30a38",
   "metadata": {},
   "outputs": [
    {
     "data": {
      "text/plain": [
       "\"That theat! In about hugle my, evend in\\nProfessor Mitorged at for kard int\\npary. I quen't alince? If \""
      ]
     },
     "execution_count": 43,
     "metadata": {},
     "output_type": "execute_result"
    }
   ],
   "source": [
    "generate_text('T', model, 100, seq_len)"
   ]
  },
  {
   "cell_type": "code",
   "execution_count": 44,
   "id": "8353a511-7613-4779-9d1e-cd1fbddf2370",
   "metadata": {},
   "outputs": [
    {
     "data": {
      "image/png": "[encoded data removed]",
      "text/plain": [
       "<Figure size 640x480 with 1 Axes>"
      ]
     },
     "metadata": {},
     "output_type": "display_data"
    }
   ],
   "source": [
    "plt.plot(losses);"
   ]
  },
  {
   "cell_type": "markdown",
   "id": "ff0ee5fa-4689-4daf-8e41-bf992f688349",
   "metadata": {},
   "source": [
    "### Layer norm\n",
    "* uzupełnić Transformer Block o dwie warstwy Layer Norm\n",
    "\n",
    "<img src=\"../../pic/layer_norm.png\" alt=\"Layer norm\" width=\"300\">"
   ]
  },
  {
   "cell_type": "markdown",
   "id": "6cac8649",
   "metadata": {},
   "source": [
    "#### Zmodyfikować TransformerBlock\n",
    "* dodać dwie warstwy Layer Norm w miejscach według schematu (nn.LayerNorm)\n",
    "* do konstruktora warstwy LayerNorm podajemy rozmiar wymiaru, dla którego ma być zastosowana normalizacja (*d_model*)"
   ]
  },
  {
   "cell_type": "code",
   "execution_count": 46,
   "id": "6ff3aff7-332e-41a8-887c-92d8b02d09db",
   "metadata": {},
   "outputs": [],
   "source": [
    "class TransformerBlock(nn.Module):\n",
    "    def __init__(self, n_heads, d_head, d_model):\n",
    "        super().__init__()\n",
    "        self.multi_head_attention = #TODO\n",
    "        self.mlp = #TODO\n",
    "        self.ln1 = #TODO\n",
    "        self.ln2 = #TODO\n",
    "        \n",
    "    def forward(self, x):\n",
    "        #TODO\n",
    "        return x"
   ]
  },
  {
   "cell_type": "code",
   "execution_count": 47,
   "id": "623c5f6e-e01b-469d-91a8-a72598a7627a",
   "metadata": {},
   "outputs": [],
   "source": [
    "batch_size = 256\n",
    "seq_len = 8\n",
    "d_model = 16\n",
    "d_head = 4\n",
    "n_heads = 4\n",
    "n_steps = 2000\n",
    "model = TransformerModel(n_heads, vocab_size, d_head, d_model, seq_len).to(device)\n",
    "optimizer = torch.optim.AdamW(model.parameters(), lr=0.01)"
   ]
  },
  {
   "cell_type": "code",
   "execution_count": 48,
   "id": "728bcfba-7402-4943-a489-d721d0878eed",
   "metadata": {},
   "outputs": [
    {
     "name": "stdout",
     "output_type": "stream",
     "text": [
      "Krok 0: Loss = 4.6496\n",
      "Krok 100: Loss = 2.5341\n",
      "Krok 200: Loss = 2.3139\n",
      "Krok 300: Loss = 2.1518\n",
      "Krok 400: Loss = 2.1473\n",
      "Krok 500: Loss = 2.1197\n",
      "Krok 600: Loss = 2.1480\n",
      "Krok 700: Loss = 2.0977\n",
      "Krok 800: Loss = 2.0092\n",
      "Krok 900: Loss = 2.0123\n",
      "Krok 1000: Loss = 2.0078\n",
      "Krok 1100: Loss = 1.9473\n",
      "Krok 1200: Loss = 1.9585\n",
      "Krok 1300: Loss = 2.0315\n",
      "Krok 1400: Loss = 1.9784\n",
      "Krok 1500: Loss = 2.0153\n",
      "Krok 1600: Loss = 1.9464\n",
      "Krok 1700: Loss = 2.0108\n",
      "Krok 1800: Loss = 1.9981\n",
      "Krok 1900: Loss = 2.0148\n"
     ]
    }
   ],
   "source": [
    "losses = train_loop(model, optimizer, n_steps, batch_size, seq_len, vocab_size)"
   ]
  },
  {
   "cell_type": "code",
   "execution_count": 49,
   "id": "0ce5faeb-00a3-436a-b881-414f561f93b6",
   "metadata": {},
   "outputs": [
    {
     "data": {
      "text/plain": [
       "\"Tera lotked lanoys whatged a swich a velply up at pein\\ndull somether works\\nyou hade in of Insmeth 'st\""
      ]
     },
     "execution_count": 49,
     "metadata": {},
     "output_type": "execute_result"
    }
   ],
   "source": [
    "generate_text('T', model, 100, seq_len)"
   ]
  },
  {
   "cell_type": "markdown",
   "id": "bffa0a35-5b05-43fd-b034-a113d6ad86a1",
   "metadata": {},
   "source": [
    "### Wnioski\n",
    "1. Czy modele będą działać dla danych wejściowych dłuższych niż seq_len? Dlaczego? *Uwaga: w funkcji generate_text dane wejściowe są zawsze przycinane do seq_len*\n",
    "2. Porównaj wszystkie modele pod względem jakości tekstu, wartości funkcji straty i liczby parametrów\n",
    "3. (dla chętnych) Można eksperymentować z batch_size, seq_len, d_model, d_head, n_heads, n_steps, lr i liczbą warstw. Jaki najlepszy model udało się uzyskać?"
   ]
  },
  {
   "cell_type": "code",
   "execution_count": null,
   "id": "d3b8d7ee-00e2-496a-9f7d-d63e58d9375f",
   "metadata": {},
   "outputs": [],
   "source": []
  },
  {
   "cell_type": "markdown",
   "id": "6d58c4ad-43ba-4646-b9cd-57b5ad6a17ce",
   "metadata": {},
   "source": [
    "### Dalsze możliwości rozwoju\n",
    "1. Wykorzystanie danych walidacyjnych (np. kolejnego rozdziału), aby sprawdzić, czy model się nie przeucza\n",
    "2. Zapis i odczyt checkpointów\n",
    "3. Zmniejszanie współczynnika uczenia w kolejnych krokach (learning rate decay)\n",
    "4. Więcej warstw, większe wymiary modelu\n",
    "5. Większy słownik (tokenizacja!)\n",
    "6. Obecnie każda głowa jest liczona osobo i wyniki są konkatenowane (a następnie sumowane). Dla wydajności można dodać liczbę głów jako czwarty wymiar. To podjeście jest równoważne matematycznie, jest wydajniejszą implementacją, ale jest trudnejsze do zrozumienia."
   ]
  },
  {
   "cell_type": "code",
   "execution_count": null,
   "id": "cb0aa541-7e74-4bfb-bc0a-9b7cf78e29a5",
   "metadata": {},
   "outputs": [],
   "source": []
  }
 ],
 "metadata": {
  "kernelspec": {
   "display_name": "Python 3 (ipykernel)",
   "language": "python",
   "name": "python3"
  },
  "language_info": {
   "codemirror_mode": {
    "name": "ipython",
    "version": 3
   },
   "file_extension": ".py",
   "mimetype": "text/x-python",
   "name": "python",
   "nbconvert_exporter": "python",
   "pygments_lexer": "ipython3",
   "version": "3.12.3"
  }
 },
 "nbformat": 4,
 "nbformat_minor": 5
}
