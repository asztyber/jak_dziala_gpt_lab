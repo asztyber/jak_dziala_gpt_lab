{
 "cells": [
  {
   "cell_type": "markdown",
   "id": "70a34edd-cf7e-4639-82bf-09834f0f2de8",
   "metadata": {},
   "source": [
    "## LAB 1 Jak działa GPT\n",
    "### Wprowadzenie do biblioteki PyTorch i algorytmów klasyfikacji\n",
    "\n",
    "Celem laboratorium jest:\n",
    "* implementacja prostego liniowego algorytmu klasyfikacji z wykorzystaniem biblioteki PyTorch\n",
    "* implementacja algorytmu optymalizacji gradientowej\n",
    "* zapozanienie z podstawami biblioteki PyToch"
   ]
  },
  {
   "cell_type": "code",
   "execution_count": null,
   "id": "fecc7783-a1b4-4e28-87b5-b418e084afdc",
   "metadata": {},
   "outputs": [],
   "source": [
    "import torch\n",
    "import numpy as np\n",
    "import matplotlib.pyplot as plt\n",
    "import torch.nn.functional as F\n",
    "import matplotlib.pyplot as plt\n",
    "from matplotlib.colors import ListedColormap"
   ]
  },
  {
   "cell_type": "markdown",
   "id": "4be4ba05-3bae-43cf-9631-2ffab139e2d6",
   "metadata": {},
   "source": [
    "### Dane uczące\n",
    "* generujemy dane (X) - 300 przykładów o dwóch cechach\n",
    "* oraz prawidłowe etykiety y - dla trzech klas"
   ]
  },
  {
   "cell_type": "code",
   "execution_count": null,
   "id": "edce5fef-884a-4c48-b2b9-c099bfab74c6",
   "metadata": {},
   "outputs": [],
   "source": [
    "def generate_data(n_samples=300):\n",
    "    X = torch.rand(n_samples, 2) * 10 - 5 \n",
    "    \n",
    "    y = torch.zeros(n_samples, dtype=torch.long)\n",
    "    y[X[:, 1] > 2 * X[:, 0] + 4] = 0  # Klasa 0\n",
    "    y[X[:, 1] < 2 * X[:, 0] - 4] = 1  # Klasa 1\n",
    "    y[(X[:, 1] <= 2 * X[:, 0] + 4) & (X[:, 1] >= 2 * X[:, 0] - 4)] = 2  # Klasa 2\n",
    "    \n",
    "    return X, y"
   ]
  },
  {
   "cell_type": "code",
   "execution_count": null,
   "id": "869dae48-119d-4746-b372-a290a8092608",
   "metadata": {},
   "outputs": [],
   "source": [
    "X, y = generate_data()"
   ]
  },
  {
   "cell_type": "code",
   "execution_count": null,
   "id": "9fd444fd-5c07-4416-843a-23bf1d09da9c",
   "metadata": {},
   "outputs": [],
   "source": [
    "# kształt X\n",
    "X.shape"
   ]
  },
  {
   "cell_type": "code",
   "execution_count": null,
   "id": "074f6d96-8f54-45fa-b8fd-71e041bf5fce",
   "metadata": {},
   "outputs": [],
   "source": [
    "# 5 pierwszych przykładów\n",
    "X[:5]"
   ]
  },
  {
   "cell_type": "code",
   "execution_count": null,
   "id": "50abca3b-ad45-4e99-8c4b-d88778e46687",
   "metadata": {},
   "outputs": [],
   "source": [
    "# 5 pierwszych etykiet\n",
    "y[:5]"
   ]
  },
  {
   "cell_type": "markdown",
   "id": "56685146-be05-4c53-9e43-3ed7ee2047a0",
   "metadata": {},
   "source": [
    "##### Klasyfikacja\n",
    "Zadaniem algorytmu jest klasyfikacja kropek do trzech kategorii (0 - żółty, 1 - zielony, 2 - czerwony)"
   ]
  },
  {
   "cell_type": "code",
   "execution_count": null,
   "id": "7e16233a-95c9-4042-b0cf-24f0cd4dc5e0",
   "metadata": {},
   "outputs": [],
   "source": [
    "colors = ['#FFCC00', '#66CC99', '#FF6666']\n",
    "cmap = ListedColormap(colors[:len(torch.unique(y))])\n",
    "plt.scatter(X[:, 0], X[:, 1], c=y, cmap=cmap);\n",
    "classes = np.unique(y)\n",
    "for cls in classes:\n",
    "    plt.scatter([], [], color=cmap(cls), label=f'Klasa {cls}')\n",
    "\n",
    "plt.legend(title=\"Klasy\");"
   ]
  },
  {
   "cell_type": "markdown",
   "id": "babd48df-f5f1-4072-bd37-9a88889ed204",
   "metadata": {},
   "source": [
    "Zamiana $y$ na kodowanie one hot"
   ]
  },
  {
   "cell_type": "code",
   "execution_count": null,
   "id": "a455d2ed-0ee1-4b79-ac40-0d4331d2e7e3",
   "metadata": {},
   "outputs": [],
   "source": [
    "y_one_hot = F.one_hot(y, num_classes=3)"
   ]
  },
  {
   "cell_type": "code",
   "execution_count": null,
   "id": "67537f92-4105-42c7-a26f-4e9c45f56335",
   "metadata": {},
   "outputs": [],
   "source": [
    "# 5 pierwszych zakodowanych etykiet\n",
    "y_one_hot[:5]"
   ]
  },
  {
   "cell_type": "markdown",
   "id": "238f0b8c-4987-40ab-bba7-b9810cd192ae",
   "metadata": {},
   "source": [
    "##### Zaimplementuj funkcję softmax\n",
    "$$softmax(z_i) = \\frac{e^{z_i}}{\\sum_{j=1}^{n} e^{z_j}}$$\n",
    "* funkcja na wejściu przyjmuje logity\n",
    "* i zwraca prawdopodobieństwa"
   ]
  },
  {
   "cell_type": "code",
   "execution_count": null,
   "id": "15d24757-0004-4345-8d99-c38334764553",
   "metadata": {},
   "outputs": [],
   "source": [
    "def softmax(logits):\n",
    "    # TODO \n",
    "    return probs"
   ]
  },
  {
   "cell_type": "code",
   "execution_count": null,
   "id": "727e435f-c8e9-47d4-bb57-041361b11e31",
   "metadata": {},
   "outputs": [],
   "source": [
    "torch.manual_seed(0);"
   ]
  },
  {
   "cell_type": "code",
   "execution_count": null,
   "id": "f234d8d3-3ede-4284-abb5-c8450b7f4af4",
   "metadata": {},
   "outputs": [],
   "source": [
    "logits = torch.normal(mean=0, std=1, size=(2, 3))\n",
    "logits"
   ]
  },
  {
   "cell_type": "code",
   "execution_count": null,
   "id": "d0fb2622-f03e-4190-b86e-656ddc1ebf2b",
   "metadata": {},
   "outputs": [],
   "source": [
    "probs = softmax(logits)\n",
    "probs"
   ]
  },
  {
   "cell_type": "code",
   "execution_count": null,
   "id": "527be5ab-6e5f-483c-81f1-e5e49849bf6d",
   "metadata": {},
   "outputs": [],
   "source": [
    "assert torch.allclose(probs, torch.tensor([[0.8446, 0.1349, 0.0205], [0.7511, 0.1438, 0.1051]]), atol = 1e-4)"
   ]
  },
  {
   "cell_type": "markdown",
   "id": "761c1009-9d50-4ff2-b10c-2ade31b979ff",
   "metadata": {},
   "source": [
    "##### Zaimplementuj entropię krzyżową\n",
    "$$ loss = -\\sum_{i=1}^{n} y_i \\log(\\hat{y}_i)$$ \n",
    "* Funkcja przyjmuje jako argumenty wyliczone prawdopodobieństwa i prawidłowe etykiety kodowane one hot\n",
    "* Zwraca wartość entropii krzyżowej uśrednionej dla wszystkich przykładów"
   ]
  },
  {
   "cell_type": "code",
   "execution_count": null,
   "id": "9704460a-ad39-4f8f-bf44-17619ea1f94d",
   "metadata": {},
   "outputs": [],
   "source": [
    "def cross_entropy(probs, y_one_hot):\n",
    "    n_examples = probs.shape[0] # liczba przykładów\n",
    "    # TODO \n",
    "    return loss "
   ]
  },
  {
   "cell_type": "code",
   "execution_count": null,
   "id": "0a7cc89e-59a7-4b01-bfdc-a3faf0aa377d",
   "metadata": {},
   "outputs": [],
   "source": [
    "loss = cross_entropy(probs, torch.tensor([[1, 0, 0], [0, 1, 0]]))\n",
    "loss"
   ]
  },
  {
   "cell_type": "code",
   "execution_count": null,
   "id": "fd0f263e-b9ce-4730-8440-90797195c289",
   "metadata": {},
   "outputs": [],
   "source": [
    "assert torch.allclose(loss, torch.tensor(1.0540))"
   ]
  },
  {
   "cell_type": "markdown",
   "id": "fe6d5804-1713-4e58-8126-59ad691bdfcf",
   "metadata": {},
   "source": [
    "#### Pętla uczenia\n",
    "\n",
    "Dla każdej epoki:\n",
    "1. Wyznacz logity $$logits = XW + b $$\n",
    "2. Zastosuj funkcję aktywacji softmax $$probs = softmax(logits)$$\n",
    "3. Wyznacz wartość funkcji straty $loss$ jako entropię krzyżową\n",
    "4. Wyznacz gradienty\n",
    "5. Zaktualizuj wartości wag\n",
    "   $$ W = W - \\alpha \\frac{\\partial loss}{\\partial W}$$\n",
    "   $$ b = b - \\alpha \\frac{\\partial loss}{\\partial b}$$"
   ]
  },
  {
   "cell_type": "code",
   "execution_count": null,
   "id": "fbff0b02-d704-48cc-a62e-558530aa20fd",
   "metadata": {},
   "outputs": [],
   "source": [
    "alpha = 0.01 # współczynnik uczenia\n",
    "epochs = 2000 # liczba epok\n",
    "# inicjalizacja wag\n",
    "W = torch.randn(2, 3, requires_grad=True)  # Wagi (3 klasy, 2 cechy)\n",
    "b = torch.randn(3, requires_grad=True)  # Bias"
   ]
  },
  {
   "cell_type": "code",
   "execution_count": null,
   "id": "bf9bcec4-04cc-4e69-a633-757c47365d29",
   "metadata": {},
   "outputs": [],
   "source": [
    "for epoch in range(epochs):\n",
    "    logits =  # TODO (1)\n",
    "    probs =   # TODO (2)\n",
    "    loss =  # TODO (3)\n",
    "        \n",
    "    # TODO (4)\n",
    "        \n",
    "    with torch.no_grad():  \n",
    "        # TODO (5)\n",
    "        \n",
    "        W.grad.zero_() # zerujemy gradienty przed kolejną pętlą\n",
    "        b.grad.zero_()\n",
    "        \n",
    "    if epoch % 100 == 0:\n",
    "        print(f\"Epoka {epoch}: Loss = {loss.item():.4f}\")"
   ]
  },
  {
   "cell_type": "code",
   "execution_count": null,
   "id": "c7a89b72-383e-44e7-a60f-7375b4eaaa83",
   "metadata": {},
   "outputs": [],
   "source": [
    "def plot_decision_boundary(W, b, X, y):\n",
    "    x_min, x_max = X[:, 0].min() - 1, X[:, 0].max() + 1\n",
    "    y_min, y_max = X[:, 1].min() - 1, X[:, 1].max() + 1\n",
    "    xx, yy = torch.meshgrid(torch.linspace(x_min, x_max, 100),\n",
    "                            torch.linspace(y_min, y_max, 100))\n",
    "    grid = torch.stack([xx.flatten(), yy.flatten()], dim=1)\n",
    "    logits = grid @ W + b\n",
    "    preds = torch.argmax(logits, dim=1).reshape(xx.shape)\n",
    "    \n",
    "    plt.contourf(xx, yy, preds, alpha=0.3, cmap=cmap)\n",
    "    plt.scatter(X[:, 0], X[:, 1], c=y, cmap=cmap)\n",
    "    plt.title(\"Granice decyzyjne\")\n",
    "    plt.show()"
   ]
  },
  {
   "cell_type": "markdown",
   "id": "503dcb84-8a68-4f06-8220-0fc67cfc0cc5",
   "metadata": {},
   "source": [
    "##### Zwizualizujemy granice decyzyjne klasyfikatora\n",
    "* kropki - nasze dane uczące\n",
    "* kolor tła - to co decyduje klasyfikator\n",
    "* jeśli jedno mniej więcej zgadza się z drugim to znaczy, że uczenie przebiegło prawidłowo"
   ]
  },
  {
   "cell_type": "code",
   "execution_count": null,
   "id": "4a2ed942-9d99-4bc7-a03d-f9ecdf80e4ae",
   "metadata": {},
   "outputs": [],
   "source": [
    "plot_decision_boundary(W, b, X, y);"
   ]
  },
  {
   "cell_type": "markdown",
   "id": "b1296769-d097-4661-b50a-2f2ad06f15c3",
   "metadata": {},
   "source": [
    "### Wnioski\n",
    "Proszę opisać jedną rzecz, która jest niejasna (z wykładu, z labu) (funkcje rysujące wykresy pomijamy)"
   ]
  },
  {
   "cell_type": "code",
   "execution_count": null,
   "id": "af08318f-6a47-4ef4-b192-592c61ee0525",
   "metadata": {},
   "outputs": [],
   "source": []
  }
 ],
 "metadata": {
  "kernelspec": {
   "display_name": "dydaktyka_LLM",
   "language": "python",
   "name": "dydaktyka_llm"
  },
  "language_info": {
   "codemirror_mode": {
    "name": "ipython",
    "version": 3
   },
   "file_extension": ".py",
   "mimetype": "text/x-python",
   "name": "python",
   "nbconvert_exporter": "python",
   "pygments_lexer": "ipython3",
   "version": "3.11.0rc1"
  }
 },
 "nbformat": 4,
 "nbformat_minor": 5
}
