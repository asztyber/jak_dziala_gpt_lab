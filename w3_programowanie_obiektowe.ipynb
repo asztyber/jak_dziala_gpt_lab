{
 "cells": [
  {
   "cell_type": "markdown",
   "id": "b721c06c",
   "metadata": {},
   "source": [
    "## Wykład 3 - Jak działa GPT\n",
    "Wprowadzenie do biblioteki programowania obiektowego w Pythonie\n",
    "\n",
    "Przy implementacji architektury sieci neuronowych będziemy implemenentować klasę dziedziczącą z torch.nn.Module. Celem tych zajęć jest zapoznaie się z mechanizmami dziedziczenia i programowania obiektowego w Pythonie.\n"
   ]
  },
  {
   "cell_type": "markdown",
   "id": "dbdd5dc7",
   "metadata": {},
   "source": [
    "### Prosta klasa\n",
    "* konstruktor - funkcja o nazwie **\\_\\_init\\_\\_**\n",
    "* pierwszym argumentem funkcji jest zawsze self - obiekt klasy, dla którego wywołujemy funkcję (jak this w c++)\n",
    "* do pól i metod obiektu klasy odwołujemy się poprzez .\n",
    "* wszystkie pola obiektu powinniśmy zdefiniować w init"
   ]
  },
  {
   "cell_type": "code",
   "execution_count": 1,
   "id": "01894f1f",
   "metadata": {
    "ExecuteTime": {
     "end_time": "2024-04-21T11:22:08.565886Z",
     "start_time": "2024-04-21T11:22:08.556470Z"
    }
   },
   "outputs": [],
   "source": [
    "# definicja klasy\n",
    "class Prostokat:\n",
    "    def __init__(self, wysokosc, szerokosc, wypelnienie): # konstruktor\n",
    "        self.szerokosc = szerokosc\n",
    "        self.wysokosc = wysokosc\n",
    "        self.wypelnienie = wypelnienie"
   ]
  },
  {
   "cell_type": "code",
   "execution_count": 2,
   "id": "c8669e92",
   "metadata": {
    "ExecuteTime": {
     "end_time": "2024-04-21T11:22:10.458647Z",
     "start_time": "2024-04-21T11:22:10.453682Z"
    }
   },
   "outputs": [],
   "source": [
    "# definicja i tworzenie obiektu klasy\n",
    "p = Prostokat(2, 3, '*')"
   ]
  },
  {
   "cell_type": "code",
   "execution_count": 3,
   "id": "17e97052",
   "metadata": {
    "ExecuteTime": {
     "end_time": "2024-04-21T11:22:12.068032Z",
     "start_time": "2024-04-21T11:22:12.058602Z"
    }
   },
   "outputs": [
    {
     "data": {
      "text/plain": [
       "__main__.Prostokat"
      ]
     },
     "execution_count": 3,
     "metadata": {},
     "output_type": "execute_result"
    }
   ],
   "source": [
    "type(p)"
   ]
  },
  {
   "cell_type": "code",
   "execution_count": 4,
   "id": "a6627763",
   "metadata": {
    "ExecuteTime": {
     "end_time": "2024-04-21T11:22:12.885459Z",
     "start_time": "2024-04-21T11:22:12.878639Z"
    }
   },
   "outputs": [
    {
     "data": {
      "text/plain": [
       "'*'"
      ]
     },
     "execution_count": 4,
     "metadata": {},
     "output_type": "execute_result"
    }
   ],
   "source": [
    "# odwołanie do pola wypelnienie\n",
    "p.wypelnienie"
   ]
  },
  {
   "cell_type": "code",
   "execution_count": 5,
   "id": "2495fc5b",
   "metadata": {
    "ExecuteTime": {
     "end_time": "2024-04-21T11:22:16.415747Z",
     "start_time": "2024-04-21T11:22:16.409065Z"
    }
   },
   "outputs": [
    {
     "data": {
      "text/plain": [
       "'&'"
      ]
     },
     "execution_count": 5,
     "metadata": {},
     "output_type": "execute_result"
    }
   ],
   "source": [
    "# nie ma ochrony pól (konwencyjnie pola prywatne oznaczamy nazwą rozpoczynającą się od _)\n",
    "p.wypelnienie = '&'\n",
    "p.wypelnienie"
   ]
  },
  {
   "cell_type": "markdown",
   "id": "f086c202",
   "metadata": {},
   "source": [
    "### Więcej metod"
   ]
  },
  {
   "cell_type": "code",
   "execution_count": 6,
   "id": "0e55ef15",
   "metadata": {
    "ExecuteTime": {
     "end_time": "2024-04-21T11:22:23.248278Z",
     "start_time": "2024-04-21T11:22:23.242063Z"
    }
   },
   "outputs": [],
   "source": [
    "class Prostokat:\n",
    "    def __init__(self, wysokosc, szerokosc, wypelnienie): # konstruktor\n",
    "        self.szerokosc = szerokosc\n",
    "        self.wysokosc = wysokosc\n",
    "        self.wypelnienie = wypelnienie\n",
    "        \n",
    "    def pole_powierzchni(self):\n",
    "        return self.szerokosc * self.wysokosc\n",
    "    \n",
    "    def rysuj(self):\n",
    "        for _ in range(self.wysokosc):\n",
    "            print(self.szerokosc * self.wypelnienie)"
   ]
  },
  {
   "cell_type": "code",
   "execution_count": 7,
   "id": "0b1389ae",
   "metadata": {
    "ExecuteTime": {
     "end_time": "2024-04-21T11:22:29.110373Z",
     "start_time": "2024-04-21T11:22:29.103714Z"
    }
   },
   "outputs": [
    {
     "data": {
      "text/plain": [
       "6"
      ]
     },
     "execution_count": 7,
     "metadata": {},
     "output_type": "execute_result"
    }
   ],
   "source": [
    "p = Prostokat(2, 3, '*')\n",
    "p.pole_powierzchni()"
   ]
  },
  {
   "cell_type": "code",
   "execution_count": 8,
   "id": "9e264dca",
   "metadata": {
    "ExecuteTime": {
     "end_time": "2024-04-21T11:22:30.159878Z",
     "start_time": "2024-04-21T11:22:30.154796Z"
    }
   },
   "outputs": [
    {
     "name": "stdout",
     "output_type": "stream",
     "text": [
      "***\n",
      "***\n"
     ]
    }
   ],
   "source": [
    "p.rysuj()"
   ]
  },
  {
   "cell_type": "markdown",
   "id": "20cbea3e",
   "metadata": {},
   "source": [
    "### Dziedziczenie\n",
    "* klasa Kwadrat dziedziczy po klasie prostokąt\n",
    "* w funkcji \\_\\_init_\\_ klasy Kwadrat możemy wywołać konstruktor klasy nadrzędnej\n",
    "* do klasy nadrzędnej odwołujemy się poprzez super()"
   ]
  },
  {
   "cell_type": "code",
   "execution_count": 10,
   "id": "994801f9",
   "metadata": {
    "ExecuteTime": {
     "end_time": "2024-04-21T11:22:54.587381Z",
     "start_time": "2024-04-21T11:22:54.581390Z"
    }
   },
   "outputs": [],
   "source": [
    "class Prostokat:\n",
    "    def __init__(self, wysokosc, szerokosc): # konstruktor\n",
    "        self.szerokosc = szerokosc\n",
    "        self.wysokosc = wysokosc\n",
    "        \n",
    "    def pole_powierzchni(self):\n",
    "        return self.szerokosc * self.wysokosc\n",
    "    \n",
    "class Kwadrat(Prostokat):\n",
    "    def __init__(self, wysokosc):\n",
    "        super().__init__(wysokosc, wysokosc) # wywołanie metody z klasy bazowej"
   ]
  },
  {
   "cell_type": "code",
   "execution_count": 11,
   "id": "34a31c81",
   "metadata": {
    "ExecuteTime": {
     "end_time": "2024-04-21T11:22:57.975965Z",
     "start_time": "2024-04-21T11:22:57.969445Z"
    }
   },
   "outputs": [
    {
     "data": {
      "text/plain": [
       "4"
      ]
     },
     "execution_count": 11,
     "metadata": {},
     "output_type": "execute_result"
    }
   ],
   "source": [
    "k = Kwadrat(2)\n",
    "k.pole_powierzchni()"
   ]
  },
  {
   "cell_type": "markdown",
   "id": "0ead5e7e-3271-4e1a-bd6e-4d43408aaa24",
   "metadata": {},
   "source": [
    "### Python wskazówki do lab"
   ]
  },
  {
   "cell_type": "code",
   "execution_count": 14,
   "id": "e10674c1-1f35-40a4-9a90-1f1f714e8db8",
   "metadata": {},
   "outputs": [],
   "source": [
    "text = 'ndckdcnoeicmo'"
   ]
  },
  {
   "cell_type": "code",
   "execution_count": 16,
   "id": "0bed34f2-fac8-447d-9ccf-ba786f2e8aba",
   "metadata": {},
   "outputs": [
    {
     "data": {
      "text/plain": [
       "{'c', 'd', 'e', 'i', 'k', 'm', 'n', 'o'}"
      ]
     },
     "execution_count": 16,
     "metadata": {},
     "output_type": "execute_result"
    }
   ],
   "source": [
    "# zbiór (set) zawiera tylko unikalne elementy\n",
    "chars = set(text)\n",
    "chars"
   ]
  },
  {
   "cell_type": "code",
   "execution_count": 19,
   "id": "c328bcd3-abd5-4415-842b-cfaf6ed56d27",
   "metadata": {},
   "outputs": [
    {
     "data": {
      "text/plain": [
       "['o', 'm', 'k', 'd', 'c', 'i', 'n', 'e']"
      ]
     },
     "execution_count": 19,
     "metadata": {},
     "output_type": "execute_result"
    }
   ],
   "source": [
    "#zamiana na listę\n",
    "chars = list(chars)\n",
    "chars"
   ]
  },
  {
   "cell_type": "code",
   "execution_count": 20,
   "id": "6fae6893-8f93-40cc-9320-d6054ee730a4",
   "metadata": {},
   "outputs": [
    {
     "data": {
      "text/plain": [
       "8"
      ]
     },
     "execution_count": 20,
     "metadata": {},
     "output_type": "execute_result"
    }
   ],
   "source": [
    "# długość listy\n",
    "len(chars)"
   ]
  },
  {
   "cell_type": "code",
   "execution_count": 22,
   "id": "0296bb30-861a-434a-ba1f-07478cf70f4d",
   "metadata": {},
   "outputs": [
    {
     "data": {
      "text/plain": [
       "['c', 'd', 'e', 'i', 'k', 'm', 'n', 'o']"
      ]
     },
     "execution_count": 22,
     "metadata": {},
     "output_type": "execute_result"
    }
   ],
   "source": [
    "# sortowanie\n",
    "sorted(chars)"
   ]
  },
  {
   "cell_type": "code",
   "execution_count": 23,
   "id": "f268d972-1812-4d3b-a225-be3357285fc6",
   "metadata": {},
   "outputs": [
    {
     "name": "stdout",
     "output_type": "stream",
     "text": [
      "0 o\n",
      "1 m\n",
      "2 k\n",
      "3 d\n",
      "4 c\n",
      "5 i\n",
      "6 n\n",
      "7 e\n"
     ]
    }
   ],
   "source": [
    "for i, c in enumerate(chars):\n",
    "    print(i, c)"
   ]
  },
  {
   "cell_type": "code",
   "execution_count": 24,
   "id": "9fddb475-a411-4575-b154-fc86eff449b3",
   "metadata": {},
   "outputs": [],
   "source": [
    "# łączenie tekstu"
   ]
  },
  {
   "cell_type": "code",
   "execution_count": 26,
   "id": "9a993a3e-e8e8-486e-99b5-2466245ee46f",
   "metadata": {},
   "outputs": [
    {
     "data": {
      "text/plain": [
       "['o', 'm', 'k', 'd', 'c', 'i', 'n', 'e']"
      ]
     },
     "execution_count": 26,
     "metadata": {},
     "output_type": "execute_result"
    }
   ],
   "source": [
    "chars"
   ]
  },
  {
   "cell_type": "code",
   "execution_count": 25,
   "id": "98ca8826-4f87-44d5-b01d-ffe415eb85a3",
   "metadata": {},
   "outputs": [
    {
     "data": {
      "text/plain": [
       "'omkdcine'"
      ]
     },
     "execution_count": 25,
     "metadata": {},
     "output_type": "execute_result"
    }
   ],
   "source": [
    "''.join(chars)"
   ]
  },
  {
   "cell_type": "code",
   "execution_count": 27,
   "id": "638d50ea-2b3f-497b-aaba-d2657b2a5990",
   "metadata": {},
   "outputs": [
    {
     "data": {
      "text/plain": [
       "'o???m???k???d???c???i???n???e'"
      ]
     },
     "execution_count": 27,
     "metadata": {},
     "output_type": "execute_result"
    }
   ],
   "source": [
    "'???'.join(chars)"
   ]
  },
  {
   "cell_type": "markdown",
   "id": "5577ae7c-8211-4da4-8fc6-30e76635afa3",
   "metadata": {},
   "source": [
    "#### Słowniki"
   ]
  },
  {
   "cell_type": "code",
   "execution_count": 29,
   "id": "aee8396d-9547-49ee-9dc9-54158e63fba2",
   "metadata": {},
   "outputs": [],
   "source": [
    "d = {0: 'a', 1: 'b', 2: 'c'}"
   ]
  },
  {
   "cell_type": "code",
   "execution_count": 30,
   "id": "c1f7989c-d9b2-4c18-a9e8-77c9d79870cd",
   "metadata": {},
   "outputs": [
    {
     "data": {
      "text/plain": [
       "'a'"
      ]
     },
     "execution_count": 30,
     "metadata": {},
     "output_type": "execute_result"
    }
   ],
   "source": [
    "d[0]"
   ]
  },
  {
   "cell_type": "code",
   "execution_count": 32,
   "id": "cd8f4985-2403-4b9f-9dcf-44384075fb7e",
   "metadata": {},
   "outputs": [
    {
     "data": {
      "text/plain": [
       "['b', 'a', 'b', 'c', 'c', 'b']"
      ]
     },
     "execution_count": 32,
     "metadata": {},
     "output_type": "execute_result"
    }
   ],
   "source": [
    "[d[i] for i in [1, 0, 1, 2, 2, 1]]"
   ]
  },
  {
   "cell_type": "code",
   "execution_count": 34,
   "id": "a69831fe-ce5f-403c-81e5-bfeb691491b6",
   "metadata": {},
   "outputs": [
    {
     "data": {
      "text/plain": [
       "[(0, 'o'),\n",
       " (1, 'm'),\n",
       " (2, 'k'),\n",
       " (3, 'd'),\n",
       " (4, 'c'),\n",
       " (5, 'i'),\n",
       " (6, 'n'),\n",
       " (7, 'e')]"
      ]
     },
     "execution_count": 34,
     "metadata": {},
     "output_type": "execute_result"
    }
   ],
   "source": [
    "list(enumerate(chars))"
   ]
  },
  {
   "cell_type": "code",
   "execution_count": 35,
   "id": "fa414f54-150b-4df6-a12c-7722580e0ef0",
   "metadata": {},
   "outputs": [
    {
     "data": {
      "text/plain": [
       "{0: 'o', 1: 'm', 2: 'k', 3: 'd', 4: 'c', 5: 'i', 6: 'n', 7: 'e'}"
      ]
     },
     "execution_count": 35,
     "metadata": {},
     "output_type": "execute_result"
    }
   ],
   "source": [
    "{i: c for i, c in enumerate(chars)}"
   ]
  },
  {
   "cell_type": "code",
   "execution_count": 36,
   "id": "8ce591b0-d40c-4187-8365-9a2d54c3a8e1",
   "metadata": {},
   "outputs": [
    {
     "data": {
      "text/plain": [
       "{'o': 0, 'm': 1, 'k': 2, 'd': 3, 'c': 4, 'i': 5, 'n': 6, 'e': 7}"
      ]
     },
     "execution_count": 36,
     "metadata": {},
     "output_type": "execute_result"
    }
   ],
   "source": [
    "{c: i for i, c in enumerate(chars)}"
   ]
  },
  {
   "cell_type": "code",
   "execution_count": null,
   "id": "9e843cae-acc4-4904-817b-a662d7824fde",
   "metadata": {},
   "outputs": [],
   "source": []
  }
 ],
 "metadata": {
  "kernelspec": {
   "display_name": "Python 3 (ipykernel)",
   "language": "python",
   "name": "python3"
  },
  "language_info": {
   "codemirror_mode": {
    "name": "ipython",
    "version": 3
   },
   "file_extension": ".py",
   "mimetype": "text/x-python",
   "name": "python",
   "nbconvert_exporter": "python",
   "pygments_lexer": "ipython3",
   "version": "3.12.3"
  }
 },
 "nbformat": 4,
 "nbformat_minor": 5
}
