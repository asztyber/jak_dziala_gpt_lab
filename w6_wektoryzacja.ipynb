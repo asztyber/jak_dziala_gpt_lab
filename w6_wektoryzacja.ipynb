{
 "cells": [
  {
   "cell_type": "markdown",
   "id": "7c071667-e354-44b8-96c8-b465cf7b519a",
   "metadata": {},
   "source": [
    "## Wykład 6 - Osadzenia wektorowe (Embeddings) \n",
    "\n",
    "* wykorzystanie gotowych modeli do wektoryzacji słów i zdań\n",
    "* kilka szczegółow przydatnych na lab"
   ]
  },
  {
   "cell_type": "code",
   "execution_count": 7,
   "id": "203dc255-cf09-4ec7-be1b-0793f8254be0",
   "metadata": {},
   "outputs": [],
   "source": [
    "import gensim.downloader as api\n",
    "from sklearn.metrics.pairwise import cosine_similarity\n",
    "from sklearn.decomposition import PCA\n",
    "from sklearn.manifold import TSNE\n",
    "import numpy as np\n",
    "import matplotlib.pyplot as plt"
   ]
  },
  {
   "cell_type": "code",
   "execution_count": 4,
   "id": "a67e04fd-25a2-48cd-bcd4-9f52371b7ec5",
   "metadata": {},
   "outputs": [],
   "source": [
    "# pobieramy wektory\n",
    "# https://huggingface.co/fse/fasttext-wiki-news-subwords-300\n",
    "model = api.load(\"fasttext-wiki-news-subwords-300\") "
   ]
  },
  {
   "cell_type": "code",
   "execution_count": 5,
   "id": "112e809c-1ec3-47a3-a640-21f0003e25d3",
   "metadata": {},
   "outputs": [],
   "source": [
    "word_vector = model[\"kot\"]"
   ]
  },
  {
   "cell_type": "code",
   "execution_count": 6,
   "id": "3005df42-9c51-471a-836b-da916b8583d6",
   "metadata": {},
   "outputs": [
    {
     "data": {
      "text/plain": [
       "(300,)"
      ]
     },
     "execution_count": 6,
     "metadata": {},
     "output_type": "execute_result"
    }
   ],
   "source": [
    "word_vector.shape"
   ]
  },
  {
   "cell_type": "code",
   "execution_count": 7,
   "id": "4e9a6b6a-8325-4487-84d4-b9bdb0dbdc56",
   "metadata": {},
   "outputs": [
    {
     "data": {
      "text/plain": [
       "array([-0.014416, -0.063264,  0.073056, -0.024186, -0.058878],\n",
       "      dtype=float32)"
      ]
     },
     "execution_count": 7,
     "metadata": {},
     "output_type": "execute_result"
    }
   ],
   "source": [
    "word_vector[:5]"
   ]
  },
  {
   "cell_type": "markdown",
   "id": "33b8063b-e713-459a-9987-47c54b98a674",
   "metadata": {},
   "source": [
    "##### Najbliższe słowa"
   ]
  },
  {
   "cell_type": "code",
   "execution_count": 8,
   "id": "87074019-c13d-42f0-8c29-cb45b0b257f8",
   "metadata": {},
   "outputs": [
    {
     "data": {
      "text/plain": [
       "[('Warszawska', 0.8751598000526428),\n",
       " ('Warszawie', 0.8580816388130188),\n",
       " ('Warszawskie', 0.852982223033905),\n",
       " ('Warszawianka', 0.8490050435066223),\n",
       " ('Warszawski', 0.8447102308273315),\n",
       " ('Warszawy', 0.841517984867096),\n",
       " ('Warszawskiego', 0.8095262050628662),\n",
       " ('Warszawskiej', 0.8029562830924988),\n",
       " ('Polski', 0.7724302411079407),\n",
       " ('Polskie', 0.7630932927131653)]"
      ]
     },
     "execution_count": 8,
     "metadata": {},
     "output_type": "execute_result"
    }
   ],
   "source": [
    "model.most_similar(\"Warszawa\", topn=10)"
   ]
  },
  {
   "cell_type": "code",
   "execution_count": 9,
   "id": "75a29d1c-a084-4278-9484-763dd5c064c0",
   "metadata": {},
   "outputs": [
    {
     "data": {
      "text/plain": [
       "[('finland', 0.7272711992263794),\n",
       " ('lithuania', 0.7255911827087402),\n",
       " ('hungary', 0.7227028012275696),\n",
       " ('russia', 0.7226427793502808),\n",
       " ('romania', 0.7162309288978577),\n",
       " ('slovakia', 0.7160787582397461),\n",
       " ('warsaw', 0.7158566117286682),\n",
       " ('germany', 0.7062060832977295),\n",
       " ('latvia', 0.7030741572380066),\n",
       " ('sweden', 0.7024861574172974)]"
      ]
     },
     "execution_count": 9,
     "metadata": {},
     "output_type": "execute_result"
    }
   ],
   "source": [
    "model.most_similar(\"poland\", topn=10)"
   ]
  },
  {
   "cell_type": "code",
   "execution_count": 10,
   "id": "b4d86e08-1540-4314-8886-00c4d7185e89",
   "metadata": {},
   "outputs": [
    {
     "data": {
      "text/plain": [
       "[('students', 0.7918989658355713),\n",
       " ('studen', 0.7834596037864685),\n",
       " ('college-student', 0.7712274193763733),\n",
       " ('students-and', 0.7670783400535583),\n",
       " ('ex-student', 0.7642696499824524),\n",
       " ('non-student', 0.7591925859451294),\n",
       " ('teacher', 0.7560623288154602),\n",
       " ('grad-student', 0.751081645488739),\n",
       " ('graduate-student', 0.7449193000793457),\n",
       " ('student-student', 0.7319725155830383)]"
      ]
     },
     "execution_count": 10,
     "metadata": {},
     "output_type": "execute_result"
    }
   ],
   "source": [
    "model.most_similar(\"student\", topn=10)"
   ]
  },
  {
   "cell_type": "code",
   "execution_count": 11,
   "id": "9c393c40-20db-48b9-b798-32298ecc67cf",
   "metadata": {},
   "outputs": [
    {
     "data": {
      "text/plain": [
       "[('its', 0.7545767426490784),\n",
       " ('first--the', 0.7534650564193726),\n",
       " ('them-the', 0.7453411221504211),\n",
       " ('their', 0.739741325378418),\n",
       " ('you-the', 0.7391120195388794),\n",
       " ('his', 0.7357286810874939),\n",
       " ('this', 0.7341271638870239),\n",
       " ('this-the', 0.7223762273788452),\n",
       " ('all--the', 0.7223074436187744),\n",
       " ('in--the', 0.7206947803497314)]"
      ]
     },
     "execution_count": 11,
     "metadata": {},
     "output_type": "execute_result"
    }
   ],
   "source": [
    "model.most_similar(\"the\", topn=10)"
   ]
  },
  {
   "cell_type": "code",
   "execution_count": 12,
   "id": "f4778a7a-1ca4-4f04-9622-b1fe9686d8ec",
   "metadata": {},
   "outputs": [
    {
     "data": {
      "text/plain": [
       "[('Ur-Hamlet', 0.7860283851623535),\n",
       " ('Shakespeare', 0.7498655915260315),\n",
       " ('Macbeth', 0.7144498825073242),\n",
       " ('Polonius', 0.7090291976928711),\n",
       " ('Hamnet', 0.7087202668190002),\n",
       " ('Fortinbras', 0.691757082939148),\n",
       " ('Shakespear', 0.6818780303001404),\n",
       " ('Hamlett', 0.6607146263122559),\n",
       " ('Shakespeares', 0.6605340838432312),\n",
       " ('Macbeths', 0.6537368893623352)]"
      ]
     },
     "execution_count": 12,
     "metadata": {},
     "output_type": "execute_result"
    }
   ],
   "source": [
    "model.most_similar(\"Hamlet\", topn=10)"
   ]
  },
  {
   "cell_type": "markdown",
   "id": "8acb6cee-8fc2-4092-9449-bb804128b18a",
   "metadata": {},
   "source": [
    "#### Odległość kosinusowa"
   ]
  },
  {
   "cell_type": "code",
   "execution_count": 13,
   "id": "256cb22f-3785-4161-bb6e-833f6c0cb9e9",
   "metadata": {},
   "outputs": [],
   "source": [
    "word1 = \"tangerine\"\n",
    "word2 = \"orange\"\n",
    "vec1 = model[word1].reshape(1, -1)\n",
    "vec2 = model[word2].reshape(1, -1)"
   ]
  },
  {
   "cell_type": "code",
   "execution_count": 14,
   "id": "d0301487-2566-4769-b828-30379206d96f",
   "metadata": {},
   "outputs": [
    {
     "data": {
      "text/plain": [
       "array([[0.7543681]], dtype=float32)"
      ]
     },
     "execution_count": 14,
     "metadata": {},
     "output_type": "execute_result"
    }
   ],
   "source": [
    "cosine_similarity(vec1, vec2)"
   ]
  },
  {
   "cell_type": "code",
   "execution_count": 15,
   "id": "bc2b6182-2454-4e1c-9e6c-2e8cff7aac84",
   "metadata": {},
   "outputs": [],
   "source": [
    "word1 = \"kot\"\n",
    "word2 = \"orange\"\n",
    "vec1 = model[word1].reshape(1, -1)\n",
    "vec2 = model[word2].reshape(1, -1)"
   ]
  },
  {
   "cell_type": "code",
   "execution_count": 16,
   "id": "7ba8316a-4a4e-42ec-be45-8b688fa50268",
   "metadata": {},
   "outputs": [
    {
     "data": {
      "text/plain": [
       "array([[0.18303953]], dtype=float32)"
      ]
     },
     "execution_count": 16,
     "metadata": {},
     "output_type": "execute_result"
    }
   ],
   "source": [
    "cosine_similarity(vec1, vec2)"
   ]
  },
  {
   "cell_type": "markdown",
   "id": "6d4ddc84-0f33-4e02-a81b-ccd6a7873261",
   "metadata": {},
   "source": [
    "#### Wizualizacja wektorów w przestrzeni dwuwymiarowej"
   ]
  },
  {
   "cell_type": "code",
   "execution_count": 17,
   "id": "3bccad06-aa15-442b-a9d0-9c51ecfcf627",
   "metadata": {},
   "outputs": [],
   "source": [
    "words = [\"apple\", \"banana\", \"orange\", \"pear\", \"tangerine\",\n",
    "         \"dog\", \"cat\", \"parrot\", \"chicken\", \"bird\", \"owl\", \"mouse\",\n",
    "        \"warsaw\", \"london\", \"paris\", \"berlin\"]"
   ]
  },
  {
   "cell_type": "code",
   "execution_count": 18,
   "id": "00fe7b6d-778a-4156-8381-4bf0c7839e71",
   "metadata": {},
   "outputs": [
    {
     "data": {
      "text/plain": [
       "(16, 300)"
      ]
     },
     "execution_count": 18,
     "metadata": {},
     "output_type": "execute_result"
    }
   ],
   "source": [
    "embs = np.array([model[word] for word in words])\n",
    "embs.shape"
   ]
  },
  {
   "cell_type": "markdown",
   "id": "15e291e3-6425-44e5-a233-ac5f80854ab9",
   "metadata": {},
   "source": [
    "#### PCA"
   ]
  },
  {
   "cell_type": "code",
   "execution_count": 19,
   "id": "e89da232-5aad-4ac4-81b9-43cfeab6ae31",
   "metadata": {},
   "outputs": [],
   "source": [
    "pca = PCA(n_components=2)\n",
    "X_pca = pca.fit_transform(embs)"
   ]
  },
  {
   "cell_type": "code",
   "execution_count": 20,
   "id": "0001b92b-93ba-4dea-b1a3-672cd1f022fb",
   "metadata": {},
   "outputs": [
    {
     "data": {
      "image/png": "[encoded data removed]",
      "text/plain": [
       "<Figure size 500x500 with 1 Axes>"
      ]
     },
     "metadata": {},
     "output_type": "display_data"
    }
   ],
   "source": [
    "plt.figure(figsize=(5, 5))\n",
    "\n",
    "plt.scatter(X_pca[:, 0], X_pca[:, 1], alpha=0.6)\n",
    "\n",
    "for i in range(len(words)):\n",
    "    plt.annotate(words[i], (X_pca[:, 0][i], X_pca[:, 1][i]),\n",
    "                 textcoords=\"offset points\", xytext=(5, 5), ha='center', fontsize=7, color='black')"
   ]
  },
  {
   "cell_type": "markdown",
   "id": "65cb3fa4-1415-440d-9d5a-21bcc1c7e917",
   "metadata": {},
   "source": [
    "#### TSNE"
   ]
  },
  {
   "cell_type": "code",
   "execution_count": 21,
   "id": "4bbe1894-d510-4622-a165-71eca8176ab7",
   "metadata": {},
   "outputs": [],
   "source": [
    "tsne = TSNE(n_components=2, random_state=42, perplexity=2)\n",
    "X_tsne = tsne.fit_transform(embs)"
   ]
  },
  {
   "cell_type": "code",
   "execution_count": 22,
   "id": "0a2bad79-928b-4d25-85c1-853c382e4cc5",
   "metadata": {},
   "outputs": [
    {
     "data": {
      "image/png": "[encoded data removed]",
      "text/plain": [
       "<Figure size 500x500 with 1 Axes>"
      ]
     },
     "metadata": {},
     "output_type": "display_data"
    }
   ],
   "source": [
    "plt.figure(figsize=(5, 5))\n",
    "\n",
    "plt.scatter(X_tsne[:, 0], X_tsne[:, 1], alpha=0.6)\n",
    "\n",
    "for i in range(len(words)):\n",
    "    plt.annotate(words[i], (X_tsne[:, 0][i], X_tsne[:, 1][i]),\n",
    "                 textcoords=\"offset points\", xytext=(5, 5), ha='center', fontsize=7, color='black')"
   ]
  },
  {
   "cell_type": "markdown",
   "id": "88fbc5dc-2429-42c9-893c-9c07fce6753d",
   "metadata": {},
   "source": [
    "#### Wektoryzacja całych sekwencji\n",
    "* w fasttext mamy ograniczony słownik dostępnych słów\n",
    "* wyrazy wieloznaczne stanowią problem"
   ]
  },
  {
   "cell_type": "code",
   "execution_count": 58,
   "id": "aebd5e6f-0374-489a-b44a-7850770b0d7b",
   "metadata": {},
   "outputs": [],
   "source": [
    "from transformers import AutoTokenizer, AutoModel\n",
    "import torch"
   ]
  },
  {
   "cell_type": "code",
   "execution_count": 59,
   "id": "2f095252-7d46-49fa-8a70-db956076a332",
   "metadata": {},
   "outputs": [],
   "source": [
    "model_name = \"bert-base-uncased\"\n",
    "tokenizer = AutoTokenizer.from_pretrained(model_name)\n",
    "model = AutoModel.from_pretrained(model_name)"
   ]
  },
  {
   "cell_type": "code",
   "execution_count": 26,
   "id": "fae08690-9ab8-4ee1-9f86-dc35ff6095e4",
   "metadata": {},
   "outputs": [],
   "source": [
    "sentence = \"The king ruled the kingdom.\""
   ]
  },
  {
   "cell_type": "code",
   "execution_count": 27,
   "id": "426de2a7-e96d-4d39-8818-68c6d9d02338",
   "metadata": {},
   "outputs": [
    {
     "data": {
      "text/plain": [
       "{'input_ids': tensor([[ 101, 2332,  102]]), 'token_type_ids': tensor([[0, 0, 0]]), 'attention_mask': tensor([[1, 1, 1]])}"
      ]
     },
     "execution_count": 27,
     "metadata": {},
     "output_type": "execute_result"
    }
   ],
   "source": [
    "tokenizer(\"king\", return_tensors=\"pt\", return_attention_mask=True)"
   ]
  },
  {
   "cell_type": "code",
   "execution_count": 28,
   "id": "bedc700d-9089-40e9-af76-f2df93d78628",
   "metadata": {},
   "outputs": [],
   "source": [
    "tokens = tokenizer(sentence, return_tensors=\"pt\", return_attention_mask=True)"
   ]
  },
  {
   "cell_type": "code",
   "execution_count": 29,
   "id": "15ab1f7c-bf9d-4cf3-9307-e9f4a09fd10a",
   "metadata": {},
   "outputs": [
    {
     "data": {
      "text/plain": [
       "{'input_ids': tensor([[ 101, 1996, 2332, 5451, 1996, 2983, 1012,  102]]), 'token_type_ids': tensor([[0, 0, 0, 0, 0, 0, 0, 0]]), 'attention_mask': tensor([[1, 1, 1, 1, 1, 1, 1, 1]])}"
      ]
     },
     "execution_count": 29,
     "metadata": {},
     "output_type": "execute_result"
    }
   ],
   "source": [
    "tokens"
   ]
  },
  {
   "cell_type": "code",
   "execution_count": 30,
   "id": "85302575-76fe-4a4e-9b06-46b44c2e7815",
   "metadata": {},
   "outputs": [],
   "source": [
    "with torch.no_grad():\n",
    "    outputs = model(**tokens)\n",
    "\n",
    "token_embeddings = outputs.last_hidden_state  # (batch_size, seq_len, hidden_dim)"
   ]
  },
  {
   "cell_type": "code",
   "execution_count": 31,
   "id": "d4ef63d0-2f33-4222-8e92-d266bfd71c16",
   "metadata": {},
   "outputs": [
    {
     "data": {
      "text/plain": [
       "torch.Size([1, 8, 768])"
      ]
     },
     "execution_count": 31,
     "metadata": {},
     "output_type": "execute_result"
    }
   ],
   "source": [
    "token_embeddings.shape"
   ]
  },
  {
   "cell_type": "code",
   "execution_count": 32,
   "id": "ba4ab289-bd70-487b-a91a-0219721f52f3",
   "metadata": {},
   "outputs": [
    {
     "data": {
      "text/plain": [
       "2"
      ]
     },
     "execution_count": 32,
     "metadata": {},
     "output_type": "execute_result"
    }
   ],
   "source": [
    "# znajdujemy indeks tokenu odpowiadającego słowu \"king\"\n",
    "word_index = tokens.input_ids[0].tolist().index(tokenizer.convert_tokens_to_ids(\"king\"))\n",
    "word_index"
   ]
  },
  {
   "cell_type": "code",
   "execution_count": 33,
   "id": "e26f335d-95eb-4682-b6f5-ed33e5f2add5",
   "metadata": {},
   "outputs": [
    {
     "data": {
      "text/plain": [
       "(768,)"
      ]
     },
     "execution_count": 33,
     "metadata": {},
     "output_type": "execute_result"
    }
   ],
   "source": [
    "# i odczytujemy wektor\n",
    "word_vector = token_embeddings[0, word_index, :].numpy()\n",
    "word_vector.shape"
   ]
  },
  {
   "cell_type": "code",
   "execution_count": 34,
   "id": "7dc228be-028d-402d-8975-690d078cd3b0",
   "metadata": {},
   "outputs": [],
   "source": [
    "def get_bert_vec(word, sentence):\n",
    "    tokens = tokenizer(sentence, return_tensors=\"pt\", return_attention_mask=True)\n",
    "    with torch.no_grad():\n",
    "        outputs = model(**tokens)\n",
    "\n",
    "    token_embeddings = outputs.last_hidden_state\n",
    "    word_index = tokens.input_ids[0].tolist().index(tokenizer.convert_tokens_to_ids(word))\n",
    "    word_vector = token_embeddings[0, word_index, :].numpy()\n",
    "    return word_vector.reshape(1, -1)"
   ]
  },
  {
   "cell_type": "code",
   "execution_count": 35,
   "id": "7fff1d3f-2d43-4af9-902d-9062696c0ebd",
   "metadata": {},
   "outputs": [],
   "source": [
    "sentence1 = \"The dog let out a loud bark.\"\n",
    "sentence2 = \"The old oak tree had rough, peeling bark.\""
   ]
  },
  {
   "cell_type": "code",
   "execution_count": 36,
   "id": "7b97b848-fbbb-4b70-8632-b64d286c66fb",
   "metadata": {},
   "outputs": [],
   "source": [
    "vec1 = get_bert_vec(\"bark\", sentence1)\n",
    "vec2 = get_bert_vec(\"bark\", sentence2)"
   ]
  },
  {
   "cell_type": "code",
   "execution_count": 37,
   "id": "3c749f5f-4dd2-466f-a34e-35b8e9c6c8fd",
   "metadata": {},
   "outputs": [
    {
     "data": {
      "text/plain": [
       "array([[0.5202762]], dtype=float32)"
      ]
     },
     "execution_count": 37,
     "metadata": {},
     "output_type": "execute_result"
    }
   ],
   "source": [
    "cosine_similarity(vec1, vec2)"
   ]
  },
  {
   "cell_type": "code",
   "execution_count": 38,
   "id": "7938ad25-8d75-4e15-8426-177c0e883047",
   "metadata": {},
   "outputs": [],
   "source": [
    "vec_dog = get_bert_vec(\"dog\", \"dog\")\n",
    "vec_tree = get_bert_vec(\"tree\", \"tree\")"
   ]
  },
  {
   "cell_type": "code",
   "execution_count": 39,
   "id": "7d0a8efb-a653-4d0e-ad99-0fa37961b03b",
   "metadata": {},
   "outputs": [
    {
     "data": {
      "text/plain": [
       "array([[0.34185818]], dtype=float32)"
      ]
     },
     "execution_count": 39,
     "metadata": {},
     "output_type": "execute_result"
    }
   ],
   "source": [
    "cosine_similarity(vec1, vec_dog)"
   ]
  },
  {
   "cell_type": "code",
   "execution_count": 40,
   "id": "ca114bf5-c957-45d8-9cd9-89dfc6f3e09e",
   "metadata": {},
   "outputs": [
    {
     "data": {
      "text/plain": [
       "array([[0.17578511]], dtype=float32)"
      ]
     },
     "execution_count": 40,
     "metadata": {},
     "output_type": "execute_result"
    }
   ],
   "source": [
    "cosine_similarity(vec2, vec_dog)"
   ]
  },
  {
   "cell_type": "code",
   "execution_count": 41,
   "id": "1c542e33-8e08-4a56-9102-9a74b292173b",
   "metadata": {},
   "outputs": [
    {
     "data": {
      "text/plain": [
       "array([[0.35033095]], dtype=float32)"
      ]
     },
     "execution_count": 41,
     "metadata": {},
     "output_type": "execute_result"
    }
   ],
   "source": [
    "cosine_similarity(vec2, vec_tree)"
   ]
  },
  {
   "cell_type": "code",
   "execution_count": 42,
   "id": "3599520c-1e9c-4d70-83ea-fd554f38a342",
   "metadata": {},
   "outputs": [
    {
     "data": {
      "text/plain": [
       "array([[0.22784364]], dtype=float32)"
      ]
     },
     "execution_count": 42,
     "metadata": {},
     "output_type": "execute_result"
    }
   ],
   "source": [
    "cosine_similarity(vec1, vec_tree)"
   ]
  },
  {
   "cell_type": "markdown",
   "id": "9f754054-5fc0-4142-b7c5-28c32539f26c",
   "metadata": {},
   "source": [
    "#### Przydatne do lab"
   ]
  },
  {
   "cell_type": "markdown",
   "id": "b4422f0f-964f-4e0f-914d-5620e9ee35c2",
   "metadata": {},
   "source": [
    "##### Range"
   ]
  },
  {
   "cell_type": "code",
   "execution_count": 1,
   "id": "a2c10e7d-b729-402c-95d9-5053eaefa646",
   "metadata": {},
   "outputs": [
    {
     "data": {
      "text/plain": [
       "range(0, 5)"
      ]
     },
     "execution_count": 1,
     "metadata": {},
     "output_type": "execute_result"
    }
   ],
   "source": [
    "# range zwraca generator liczb od pierwszego argumentu (włącznie, domyślnie 0) do drugiego (wyłącznie)\n",
    "range(5)"
   ]
  },
  {
   "cell_type": "code",
   "execution_count": 2,
   "id": "a839983a-8712-4945-91af-3991b278daae",
   "metadata": {},
   "outputs": [
    {
     "data": {
      "text/plain": [
       "[0, 1, 2, 3, 4]"
      ]
     },
     "execution_count": 2,
     "metadata": {},
     "output_type": "execute_result"
    }
   ],
   "source": [
    "list(range(5))"
   ]
  },
  {
   "cell_type": "code",
   "execution_count": 3,
   "id": "2cc9cfb9-36b0-4dff-b418-a1c93cb4bd9e",
   "metadata": {},
   "outputs": [
    {
     "data": {
      "text/plain": [
       "[4, 5, 6, 7, 8, 9]"
      ]
     },
     "execution_count": 3,
     "metadata": {},
     "output_type": "execute_result"
    }
   ],
   "source": [
    "list(range(4, 10))"
   ]
  },
  {
   "cell_type": "markdown",
   "id": "ce20f261-6297-4764-aa16-118da920b189",
   "metadata": {},
   "source": [
    "##### Łączenie list"
   ]
  },
  {
   "cell_type": "code",
   "execution_count": 4,
   "id": "39e80557-b41b-44ef-9c24-a4f400bb9092",
   "metadata": {},
   "outputs": [
    {
     "data": {
      "text/plain": [
       "['a', 'b', 'c', 1, 2]"
      ]
     },
     "execution_count": 4,
     "metadata": {},
     "output_type": "execute_result"
    }
   ],
   "source": [
    "['a', 'b', 'c'] + [1, 2]"
   ]
  },
  {
   "cell_type": "markdown",
   "id": "4b7d6c93-2d5e-401a-95c3-29c2e8bac5a7",
   "metadata": {},
   "source": [
    "##### Enumerate"
   ]
  },
  {
   "cell_type": "code",
   "execution_count": 5,
   "id": "9f8f1063-85a2-4d4c-ac60-b8646aab498b",
   "metadata": {},
   "outputs": [
    {
     "name": "stdout",
     "output_type": "stream",
     "text": [
      "0 a\n",
      "1 b\n",
      "2 c\n"
     ]
    }
   ],
   "source": [
    "# enumarate daje iterator, który przechodzi przez kolejne elemeny np. listy i jednocześnie daje indeks elementu\n",
    "for i, el in enumerate(['a', 'b', 'c']):\n",
    "    print(i, el)"
   ]
  },
  {
   "cell_type": "markdown",
   "id": "41da4c72-1ddf-4bdd-8a5b-dacc89543fc2",
   "metadata": {},
   "source": [
    "#### Uśrednianie tensorów w odpowiedniej osi"
   ]
  },
  {
   "cell_type": "code",
   "execution_count": 8,
   "id": "bef0fa3e-820a-4106-b614-82adc1d08fd0",
   "metadata": {},
   "outputs": [],
   "source": [
    "import torch"
   ]
  },
  {
   "cell_type": "code",
   "execution_count": 9,
   "id": "d60d0675-78ea-44cf-9514-1e0436b36150",
   "metadata": {},
   "outputs": [],
   "source": [
    "# tensor trzywymiarowy\n",
    "t = torch.tensor([[[1, 2], [3, 4], [5, 6]],\n",
    "                 [[1, 2], [3, 4], [5, 6]],\n",
    "                 [[1, 2], [3, 4], [5, 6]],\n",
    "                 [[1, 2], [3, 4], [5, 6]]], dtype=torch.float)"
   ]
  },
  {
   "cell_type": "code",
   "execution_count": 10,
   "id": "b820b7d1-e4e3-457d-8e15-91926db528f1",
   "metadata": {},
   "outputs": [
    {
     "data": {
      "text/plain": [
       "tensor([[[1., 2.],\n",
       "         [3., 4.],\n",
       "         [5., 6.]],\n",
       "\n",
       "        [[1., 2.],\n",
       "         [3., 4.],\n",
       "         [5., 6.]],\n",
       "\n",
       "        [[1., 2.],\n",
       "         [3., 4.],\n",
       "         [5., 6.]],\n",
       "\n",
       "        [[1., 2.],\n",
       "         [3., 4.],\n",
       "         [5., 6.]]])"
      ]
     },
     "execution_count": 10,
     "metadata": {},
     "output_type": "execute_result"
    }
   ],
   "source": [
    "t"
   ]
  },
  {
   "cell_type": "code",
   "execution_count": 11,
   "id": "1d5008c5-4457-4196-b794-0c2e944bcc2c",
   "metadata": {},
   "outputs": [
    {
     "data": {
      "text/plain": [
       "torch.Size([4, 3, 2])"
      ]
     },
     "execution_count": 11,
     "metadata": {},
     "output_type": "execute_result"
    }
   ],
   "source": [
    "t.shape"
   ]
  },
  {
   "cell_type": "code",
   "execution_count": 12,
   "id": "82aaf9c2-d9db-4604-a408-c244146f8e3b",
   "metadata": {},
   "outputs": [
    {
     "data": {
      "text/plain": [
       "tensor(3.5000)"
      ]
     },
     "execution_count": 12,
     "metadata": {},
     "output_type": "execute_result"
    }
   ],
   "source": [
    "# z całego tensora\n",
    "t.mean()"
   ]
  },
  {
   "cell_type": "code",
   "execution_count": 13,
   "id": "fac00669-6c6c-492d-9384-53acbc4cba66",
   "metadata": {},
   "outputs": [
    {
     "data": {
      "text/plain": [
       "tensor([[1., 2.],\n",
       "        [3., 4.],\n",
       "        [5., 6.]])"
      ]
     },
     "execution_count": 13,
     "metadata": {},
     "output_type": "execute_result"
    }
   ],
   "source": [
    "t.mean(axis=0)"
   ]
  },
  {
   "cell_type": "code",
   "execution_count": 14,
   "id": "86c4cdaa-bf6d-4c16-8594-197c03a0e03d",
   "metadata": {},
   "outputs": [
    {
     "data": {
      "text/plain": [
       "torch.Size([3, 2])"
      ]
     },
     "execution_count": 14,
     "metadata": {},
     "output_type": "execute_result"
    }
   ],
   "source": [
    "t.mean(axis=0).shape"
   ]
  },
  {
   "cell_type": "code",
   "execution_count": 15,
   "id": "2be001c2-8fb9-4548-9957-24647f57e610",
   "metadata": {},
   "outputs": [
    {
     "data": {
      "text/plain": [
       "tensor([[3., 4.],\n",
       "        [3., 4.],\n",
       "        [3., 4.],\n",
       "        [3., 4.]])"
      ]
     },
     "execution_count": 15,
     "metadata": {},
     "output_type": "execute_result"
    }
   ],
   "source": [
    "t.mean(axis=1)"
   ]
  },
  {
   "cell_type": "code",
   "execution_count": 16,
   "id": "831d5985-836e-4b20-9b3a-6870b6835bda",
   "metadata": {},
   "outputs": [
    {
     "data": {
      "text/plain": [
       "torch.Size([4, 2])"
      ]
     },
     "execution_count": 16,
     "metadata": {},
     "output_type": "execute_result"
    }
   ],
   "source": [
    "t.mean(axis=1).shape"
   ]
  },
  {
   "cell_type": "code",
   "execution_count": 17,
   "id": "2e8a323f-901d-43bc-86f8-c0e8e53c0149",
   "metadata": {},
   "outputs": [
    {
     "data": {
      "text/plain": [
       "tensor([[1.5000, 3.5000, 5.5000],\n",
       "        [1.5000, 3.5000, 5.5000],\n",
       "        [1.5000, 3.5000, 5.5000],\n",
       "        [1.5000, 3.5000, 5.5000]])"
      ]
     },
     "execution_count": 17,
     "metadata": {},
     "output_type": "execute_result"
    }
   ],
   "source": [
    "t.mean(axis=2)"
   ]
  },
  {
   "cell_type": "code",
   "execution_count": 57,
   "id": "56aa88a8-5364-4cb3-ab3e-5c17febfb356",
   "metadata": {},
   "outputs": [
    {
     "data": {
      "text/plain": [
       "torch.Size([4, 3])"
      ]
     },
     "execution_count": 57,
     "metadata": {},
     "output_type": "execute_result"
    }
   ],
   "source": [
    "t.mean(axis=2).shape"
   ]
  },
  {
   "cell_type": "code",
   "execution_count": null,
   "id": "61bf529f-5df5-41f3-834f-eaf82fac07bb",
   "metadata": {},
   "outputs": [],
   "source": []
  },
  {
   "cell_type": "code",
   "execution_count": null,
   "id": "0bc54460-c76e-4a05-9058-d8414f4c0a38",
   "metadata": {},
   "outputs": [],
   "source": []
  }
 ],
 "metadata": {
  "kernelspec": {
   "display_name": "dydaktyka_LLM",
   "language": "python",
   "name": "dydaktyka_llm"
  },
  "language_info": {
   "codemirror_mode": {
    "name": "ipython",
    "version": 3
   },
   "file_extension": ".py",
   "mimetype": "text/x-python",
   "name": "python",
   "nbconvert_exporter": "python",
   "pygments_lexer": "ipython3",
   "version": "3.12.3"
  }
 },
 "nbformat": 4,
 "nbformat_minor": 5
}
